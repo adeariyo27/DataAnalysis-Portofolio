{
  "nbformat": 4,
  "nbformat_minor": 0,
  "metadata": {
    "colab": {
      "provenance": [],
      "toc_visible": true
    },
    "kernelspec": {
      "name": "python3",
      "display_name": "Python 3"
    },
    "language_info": {
      "name": "python"
    }
  },
  "cells": [
    {
      "cell_type": "markdown",
      "source": [
        "# **BACKGROUND**"
      ],
      "metadata": {
        "id": "g6KIO3Pe8iik"
      }
    },
    {
      "cell_type": "markdown",
      "source": [
        "DQLab Sports Center is a store that sells sports equipment such as jackets, clothing, bags, and shoes. This shop began selling in 2013, so it has had regular customers for a long time and is still attempting to attract new customers to this day.\n",
        "\n",
        "At the beginning of 2019, The Store Manager hired a junior Data Analyst to assist him in resolving a problem in his store, namely a decrease in customer returns. The store manager defines churn as a customer who has not made a transaction at the store in the last 6 months from the most recent available data update.\n",
        "\n",
        "The store manager also provided transaction data from 2013 to 2019 in CSV (comma-separated value) format in the form of data_retail.csv, which contained 100,000 rows of data."
      ],
      "metadata": {
        "id": "VPLytLU-pyAh"
      }
    },
    {
      "cell_type": "markdown",
      "source": [
        "# **PROBLEM STATEMENT**"
      ],
      "metadata": {
        "id": "YV2Fky4l3f1r"
      }
    },
    {
      "cell_type": "markdown",
      "source": [
        "The Store Manager wants to resolving a problem in his store, namely a decrease in customer returns. The store manager defines churn as a customer who has not made a transaction at the store in the last 6 months from the most recent available data update."
      ],
      "metadata": {
        "id": "GLDkFj_p3niJ"
      }
    },
    {
      "cell_type": "markdown",
      "source": [
        "# **BUSINESS OBJECTIVE**"
      ],
      "metadata": {
        "id": "R3VIYYqV4RY6"
      }
    },
    {
      "cell_type": "markdown",
      "source": [
        "The Store Manager wants to know which are identified as churn customers (*customer who has not made a transaction at the store in the last 6 months from the most recent available data update*)."
      ],
      "metadata": {
        "id": "GHQGLzxs4XeD"
      }
    },
    {
      "cell_type": "markdown",
      "source": [
        "# **ANALYSIS OBJECTIVE**"
      ],
      "metadata": {
        "id": "JJAtWLUz5qeR"
      }
    },
    {
      "cell_type": "markdown",
      "source": [
        "Create a model that can accurately predict at least 60% of customers that are identified as churn customers (*Accuracy, Precision, and Recall above 60%*)."
      ],
      "metadata": {
        "id": "-e2QvmvA5ue4"
      }
    },
    {
      "cell_type": "markdown",
      "source": [
        "# **DATASET INFORMATION**"
      ],
      "metadata": {
        "id": "Vo5I4YQt6tPV"
      }
    },
    {
      "cell_type": "markdown",
      "source": [
        "The data contains the following fields:\n",
        "\n",
        "* No\n",
        "* Row_Num\n",
        "* Customer_ID\n",
        "* Products\n",
        "* First_Transaction\n",
        "* Last_Transaction\n",
        "* Average_Transaction_Amount\n",
        "* Count_Transaction"
      ],
      "metadata": {
        "id": "DMsQ1XCD6vtB"
      }
    },
    {
      "cell_type": "markdown",
      "source": [
        "# **DATA PREPARATION**"
      ],
      "metadata": {
        "id": "_Y6xmKN6nLZB"
      }
    },
    {
      "cell_type": "markdown",
      "source": [
        "* **Importing Data**: Import data_retail.csv into the Python environment.\n",
        "* **Cleaning Data**: Cleaning and modifying data so that it is ready to be used for further analysis."
      ],
      "metadata": {
        "id": "T1WvOXiTnQ0d"
      }
    },
    {
      "cell_type": "markdown",
      "source": [
        "## [1] Importing and Inspection Data\n",
        "Import the dataset from *https://storage.googleapis.com/dqlab-dataset/data_retail.csv* and then inspect it.\n",
        "\n",
        "* Print top 5 data.\n",
        "* Get dataset information.\n"
      ],
      "metadata": {
        "id": "O5edw-gK7JP4"
      }
    },
    {
      "cell_type": "code",
      "source": [
        "import pandas as pd\n",
        "df = pd.read_csv('https://storage.googleapis.com/dqlab-dataset/data_retail.csv', sep=';')"
      ],
      "metadata": {
        "id": "42teSi6T3AqI"
      },
      "execution_count": 19,
      "outputs": []
    },
    {
      "cell_type": "code",
      "source": [
        "print('Top 5 Data:')\n",
        "df.head()"
      ],
      "metadata": {
        "colab": {
          "base_uri": "https://localhost:8080/",
          "height": 243
        },
        "id": "Rei8WZMapcVt",
        "outputId": "5d0ede1f-08a6-45db-884f-34930d57c19e"
      },
      "execution_count": 20,
      "outputs": [
        {
          "output_type": "stream",
          "name": "stdout",
          "text": [
            "Top 5 Data:\n"
          ]
        },
        {
          "output_type": "execute_result",
          "data": {
            "text/plain": [
              "   no  Row_Num  Customer_ID Product  First_Transaction  Last_Transaction  \\\n",
              "0   1        1        29531   Jaket      1466304274396     1538718482608   \n",
              "1   2        2        29531  Sepatu      1406077331494     1545735761270   \n",
              "2   3        3       141526     Tas      1493349147000     1548322802000   \n",
              "3   4        4       141526   Jaket      1493362372547     1547643603911   \n",
              "4   5        5        37545  Sepatu      1429178498531     1542891221530   \n",
              "\n",
              "   Average_Transaction_Amount  Count_Transaction  \n",
              "0                     1467681                 22  \n",
              "1                     1269337                 41  \n",
              "2                      310915                 30  \n",
              "3                      722632                 27  \n",
              "4                     1775036                 25  "
            ],
            "text/html": [
              "\n",
              "  <div id=\"df-09ed1e8d-6432-4a91-8272-fd29d5f536ec\" class=\"colab-df-container\">\n",
              "    <div>\n",
              "<style scoped>\n",
              "    .dataframe tbody tr th:only-of-type {\n",
              "        vertical-align: middle;\n",
              "    }\n",
              "\n",
              "    .dataframe tbody tr th {\n",
              "        vertical-align: top;\n",
              "    }\n",
              "\n",
              "    .dataframe thead th {\n",
              "        text-align: right;\n",
              "    }\n",
              "</style>\n",
              "<table border=\"1\" class=\"dataframe\">\n",
              "  <thead>\n",
              "    <tr style=\"text-align: right;\">\n",
              "      <th></th>\n",
              "      <th>no</th>\n",
              "      <th>Row_Num</th>\n",
              "      <th>Customer_ID</th>\n",
              "      <th>Product</th>\n",
              "      <th>First_Transaction</th>\n",
              "      <th>Last_Transaction</th>\n",
              "      <th>Average_Transaction_Amount</th>\n",
              "      <th>Count_Transaction</th>\n",
              "    </tr>\n",
              "  </thead>\n",
              "  <tbody>\n",
              "    <tr>\n",
              "      <th>0</th>\n",
              "      <td>1</td>\n",
              "      <td>1</td>\n",
              "      <td>29531</td>\n",
              "      <td>Jaket</td>\n",
              "      <td>1466304274396</td>\n",
              "      <td>1538718482608</td>\n",
              "      <td>1467681</td>\n",
              "      <td>22</td>\n",
              "    </tr>\n",
              "    <tr>\n",
              "      <th>1</th>\n",
              "      <td>2</td>\n",
              "      <td>2</td>\n",
              "      <td>29531</td>\n",
              "      <td>Sepatu</td>\n",
              "      <td>1406077331494</td>\n",
              "      <td>1545735761270</td>\n",
              "      <td>1269337</td>\n",
              "      <td>41</td>\n",
              "    </tr>\n",
              "    <tr>\n",
              "      <th>2</th>\n",
              "      <td>3</td>\n",
              "      <td>3</td>\n",
              "      <td>141526</td>\n",
              "      <td>Tas</td>\n",
              "      <td>1493349147000</td>\n",
              "      <td>1548322802000</td>\n",
              "      <td>310915</td>\n",
              "      <td>30</td>\n",
              "    </tr>\n",
              "    <tr>\n",
              "      <th>3</th>\n",
              "      <td>4</td>\n",
              "      <td>4</td>\n",
              "      <td>141526</td>\n",
              "      <td>Jaket</td>\n",
              "      <td>1493362372547</td>\n",
              "      <td>1547643603911</td>\n",
              "      <td>722632</td>\n",
              "      <td>27</td>\n",
              "    </tr>\n",
              "    <tr>\n",
              "      <th>4</th>\n",
              "      <td>5</td>\n",
              "      <td>5</td>\n",
              "      <td>37545</td>\n",
              "      <td>Sepatu</td>\n",
              "      <td>1429178498531</td>\n",
              "      <td>1542891221530</td>\n",
              "      <td>1775036</td>\n",
              "      <td>25</td>\n",
              "    </tr>\n",
              "  </tbody>\n",
              "</table>\n",
              "</div>\n",
              "    <div class=\"colab-df-buttons\">\n",
              "\n",
              "  <div class=\"colab-df-container\">\n",
              "    <button class=\"colab-df-convert\" onclick=\"convertToInteractive('df-09ed1e8d-6432-4a91-8272-fd29d5f536ec')\"\n",
              "            title=\"Convert this dataframe to an interactive table.\"\n",
              "            style=\"display:none;\">\n",
              "\n",
              "  <svg xmlns=\"http://www.w3.org/2000/svg\" height=\"24px\" viewBox=\"0 -960 960 960\">\n",
              "    <path d=\"M120-120v-720h720v720H120Zm60-500h600v-160H180v160Zm220 220h160v-160H400v160Zm0 220h160v-160H400v160ZM180-400h160v-160H180v160Zm440 0h160v-160H620v160ZM180-180h160v-160H180v160Zm440 0h160v-160H620v160Z\"/>\n",
              "  </svg>\n",
              "    </button>\n",
              "\n",
              "  <style>\n",
              "    .colab-df-container {\n",
              "      display:flex;\n",
              "      gap: 12px;\n",
              "    }\n",
              "\n",
              "    .colab-df-convert {\n",
              "      background-color: #E8F0FE;\n",
              "      border: none;\n",
              "      border-radius: 50%;\n",
              "      cursor: pointer;\n",
              "      display: none;\n",
              "      fill: #1967D2;\n",
              "      height: 32px;\n",
              "      padding: 0 0 0 0;\n",
              "      width: 32px;\n",
              "    }\n",
              "\n",
              "    .colab-df-convert:hover {\n",
              "      background-color: #E2EBFA;\n",
              "      box-shadow: 0px 1px 2px rgba(60, 64, 67, 0.3), 0px 1px 3px 1px rgba(60, 64, 67, 0.15);\n",
              "      fill: #174EA6;\n",
              "    }\n",
              "\n",
              "    .colab-df-buttons div {\n",
              "      margin-bottom: 4px;\n",
              "    }\n",
              "\n",
              "    [theme=dark] .colab-df-convert {\n",
              "      background-color: #3B4455;\n",
              "      fill: #D2E3FC;\n",
              "    }\n",
              "\n",
              "    [theme=dark] .colab-df-convert:hover {\n",
              "      background-color: #434B5C;\n",
              "      box-shadow: 0px 1px 3px 1px rgba(0, 0, 0, 0.15);\n",
              "      filter: drop-shadow(0px 1px 2px rgba(0, 0, 0, 0.3));\n",
              "      fill: #FFFFFF;\n",
              "    }\n",
              "  </style>\n",
              "\n",
              "    <script>\n",
              "      const buttonEl =\n",
              "        document.querySelector('#df-09ed1e8d-6432-4a91-8272-fd29d5f536ec button.colab-df-convert');\n",
              "      buttonEl.style.display =\n",
              "        google.colab.kernel.accessAllowed ? 'block' : 'none';\n",
              "\n",
              "      async function convertToInteractive(key) {\n",
              "        const element = document.querySelector('#df-09ed1e8d-6432-4a91-8272-fd29d5f536ec');\n",
              "        const dataTable =\n",
              "          await google.colab.kernel.invokeFunction('convertToInteractive',\n",
              "                                                    [key], {});\n",
              "        if (!dataTable) return;\n",
              "\n",
              "        const docLinkHtml = 'Like what you see? Visit the ' +\n",
              "          '<a target=\"_blank\" href=https://colab.research.google.com/notebooks/data_table.ipynb>data table notebook</a>'\n",
              "          + ' to learn more about interactive tables.';\n",
              "        element.innerHTML = '';\n",
              "        dataTable['output_type'] = 'display_data';\n",
              "        await google.colab.output.renderOutput(dataTable, element);\n",
              "        const docLink = document.createElement('div');\n",
              "        docLink.innerHTML = docLinkHtml;\n",
              "        element.appendChild(docLink);\n",
              "      }\n",
              "    </script>\n",
              "  </div>\n",
              "\n",
              "\n",
              "<div id=\"df-d0ce9d8c-454a-428f-80ea-28831b1b05ef\">\n",
              "  <button class=\"colab-df-quickchart\" onclick=\"quickchart('df-d0ce9d8c-454a-428f-80ea-28831b1b05ef')\"\n",
              "            title=\"Suggest charts\"\n",
              "            style=\"display:none;\">\n",
              "\n",
              "<svg xmlns=\"http://www.w3.org/2000/svg\" height=\"24px\"viewBox=\"0 0 24 24\"\n",
              "     width=\"24px\">\n",
              "    <g>\n",
              "        <path d=\"M19 3H5c-1.1 0-2 .9-2 2v14c0 1.1.9 2 2 2h14c1.1 0 2-.9 2-2V5c0-1.1-.9-2-2-2zM9 17H7v-7h2v7zm4 0h-2V7h2v10zm4 0h-2v-4h2v4z\"/>\n",
              "    </g>\n",
              "</svg>\n",
              "  </button>\n",
              "\n",
              "<style>\n",
              "  .colab-df-quickchart {\n",
              "      --bg-color: #E8F0FE;\n",
              "      --fill-color: #1967D2;\n",
              "      --hover-bg-color: #E2EBFA;\n",
              "      --hover-fill-color: #174EA6;\n",
              "      --disabled-fill-color: #AAA;\n",
              "      --disabled-bg-color: #DDD;\n",
              "  }\n",
              "\n",
              "  [theme=dark] .colab-df-quickchart {\n",
              "      --bg-color: #3B4455;\n",
              "      --fill-color: #D2E3FC;\n",
              "      --hover-bg-color: #434B5C;\n",
              "      --hover-fill-color: #FFFFFF;\n",
              "      --disabled-bg-color: #3B4455;\n",
              "      --disabled-fill-color: #666;\n",
              "  }\n",
              "\n",
              "  .colab-df-quickchart {\n",
              "    background-color: var(--bg-color);\n",
              "    border: none;\n",
              "    border-radius: 50%;\n",
              "    cursor: pointer;\n",
              "    display: none;\n",
              "    fill: var(--fill-color);\n",
              "    height: 32px;\n",
              "    padding: 0;\n",
              "    width: 32px;\n",
              "  }\n",
              "\n",
              "  .colab-df-quickchart:hover {\n",
              "    background-color: var(--hover-bg-color);\n",
              "    box-shadow: 0 1px 2px rgba(60, 64, 67, 0.3), 0 1px 3px 1px rgba(60, 64, 67, 0.15);\n",
              "    fill: var(--button-hover-fill-color);\n",
              "  }\n",
              "\n",
              "  .colab-df-quickchart-complete:disabled,\n",
              "  .colab-df-quickchart-complete:disabled:hover {\n",
              "    background-color: var(--disabled-bg-color);\n",
              "    fill: var(--disabled-fill-color);\n",
              "    box-shadow: none;\n",
              "  }\n",
              "\n",
              "  .colab-df-spinner {\n",
              "    border: 2px solid var(--fill-color);\n",
              "    border-color: transparent;\n",
              "    border-bottom-color: var(--fill-color);\n",
              "    animation:\n",
              "      spin 1s steps(1) infinite;\n",
              "  }\n",
              "\n",
              "  @keyframes spin {\n",
              "    0% {\n",
              "      border-color: transparent;\n",
              "      border-bottom-color: var(--fill-color);\n",
              "      border-left-color: var(--fill-color);\n",
              "    }\n",
              "    20% {\n",
              "      border-color: transparent;\n",
              "      border-left-color: var(--fill-color);\n",
              "      border-top-color: var(--fill-color);\n",
              "    }\n",
              "    30% {\n",
              "      border-color: transparent;\n",
              "      border-left-color: var(--fill-color);\n",
              "      border-top-color: var(--fill-color);\n",
              "      border-right-color: var(--fill-color);\n",
              "    }\n",
              "    40% {\n",
              "      border-color: transparent;\n",
              "      border-right-color: var(--fill-color);\n",
              "      border-top-color: var(--fill-color);\n",
              "    }\n",
              "    60% {\n",
              "      border-color: transparent;\n",
              "      border-right-color: var(--fill-color);\n",
              "    }\n",
              "    80% {\n",
              "      border-color: transparent;\n",
              "      border-right-color: var(--fill-color);\n",
              "      border-bottom-color: var(--fill-color);\n",
              "    }\n",
              "    90% {\n",
              "      border-color: transparent;\n",
              "      border-bottom-color: var(--fill-color);\n",
              "    }\n",
              "  }\n",
              "</style>\n",
              "\n",
              "  <script>\n",
              "    async function quickchart(key) {\n",
              "      const quickchartButtonEl =\n",
              "        document.querySelector('#' + key + ' button');\n",
              "      quickchartButtonEl.disabled = true;  // To prevent multiple clicks.\n",
              "      quickchartButtonEl.classList.add('colab-df-spinner');\n",
              "      try {\n",
              "        const charts = await google.colab.kernel.invokeFunction(\n",
              "            'suggestCharts', [key], {});\n",
              "      } catch (error) {\n",
              "        console.error('Error during call to suggestCharts:', error);\n",
              "      }\n",
              "      quickchartButtonEl.classList.remove('colab-df-spinner');\n",
              "      quickchartButtonEl.classList.add('colab-df-quickchart-complete');\n",
              "    }\n",
              "    (() => {\n",
              "      let quickchartButtonEl =\n",
              "        document.querySelector('#df-d0ce9d8c-454a-428f-80ea-28831b1b05ef button');\n",
              "      quickchartButtonEl.style.display =\n",
              "        google.colab.kernel.accessAllowed ? 'block' : 'none';\n",
              "    })();\n",
              "  </script>\n",
              "</div>\n",
              "    </div>\n",
              "  </div>\n"
            ]
          },
          "metadata": {},
          "execution_count": 20
        }
      ]
    },
    {
      "cell_type": "code",
      "source": [
        "print('\\nDataset Info:')\n",
        "print(df.info())"
      ],
      "metadata": {
        "colab": {
          "base_uri": "https://localhost:8080/"
        },
        "id": "PJGvtnompkFM",
        "outputId": "06e509d5-7287-4f64-ab9b-f38057bd34f2"
      },
      "execution_count": 21,
      "outputs": [
        {
          "output_type": "stream",
          "name": "stdout",
          "text": [
            "\n",
            "Dataset Info:\n",
            "<class 'pandas.core.frame.DataFrame'>\n",
            "RangeIndex: 100000 entries, 0 to 99999\n",
            "Data columns (total 8 columns):\n",
            " #   Column                      Non-Null Count   Dtype \n",
            "---  ------                      --------------   ----- \n",
            " 0   no                          100000 non-null  int64 \n",
            " 1   Row_Num                     100000 non-null  int64 \n",
            " 2   Customer_ID                 100000 non-null  int64 \n",
            " 3   Product                     100000 non-null  object\n",
            " 4   First_Transaction           100000 non-null  int64 \n",
            " 5   Last_Transaction            100000 non-null  int64 \n",
            " 6   Average_Transaction_Amount  100000 non-null  int64 \n",
            " 7   Count_Transaction           100000 non-null  int64 \n",
            "dtypes: int64(7), object(1)\n",
            "memory usage: 6.1+ MB\n",
            "None\n"
          ]
        }
      ]
    },
    {
      "cell_type": "markdown",
      "source": [
        "## [2] Data Cleansing\n",
        "The two columns that indicate the occurrence of transactions are not of the **DateTime** data type (**int64**), so these two columns are changed to the **DateTime** data type. Then the top 5 data from the df data frame, as well as the data types of each column, are reprinted."
      ],
      "metadata": {
        "id": "fPHbyQTp8aVy"
      }
    },
    {
      "cell_type": "code",
      "source": [
        "# First_Transaction Column\n",
        "df['First_Transaction'] = pd.to_datetime(df['First_Transaction']/1000, unit='s', origin='1970-01-01')\n",
        "# Last_Transaction Column\n",
        "df['Last_Transaction'] = pd.to_datetime(df['Last_Transaction']/1000, unit='s', origin='1970-01-01')"
      ],
      "metadata": {
        "id": "Z8nsWYoT7ml8"
      },
      "execution_count": 22,
      "outputs": []
    },
    {
      "cell_type": "code",
      "source": [
        "print('Top 5 Data:')\n",
        "df.head()"
      ],
      "metadata": {
        "colab": {
          "base_uri": "https://localhost:8080/",
          "height": 330
        },
        "id": "GcQfn-rwqNEt",
        "outputId": "1fa178ca-3c30-4c78-9e25-baa8072049a3"
      },
      "execution_count": 23,
      "outputs": [
        {
          "output_type": "stream",
          "name": "stdout",
          "text": [
            "Top 5 Data:\n"
          ]
        },
        {
          "output_type": "execute_result",
          "data": {
            "text/plain": [
              "   no  Row_Num  Customer_ID Product             First_Transaction  \\\n",
              "0   1        1        29531   Jaket 2016-06-19 02:44:34.396000000   \n",
              "1   2        2        29531  Sepatu 2014-07-23 01:02:11.493999872   \n",
              "2   3        3       141526     Tas 2017-04-28 03:12:27.000000000   \n",
              "3   4        4       141526   Jaket 2017-04-28 06:52:52.546999808   \n",
              "4   5        5        37545  Sepatu 2015-04-16 10:01:38.530999808   \n",
              "\n",
              "               Last_Transaction  Average_Transaction_Amount  Count_Transaction  \n",
              "0 2018-10-05 05:48:02.608000000                     1467681                 22  \n",
              "1 2018-12-25 11:02:41.269999872                     1269337                 41  \n",
              "2 2019-01-24 09:40:02.000000000                      310915                 30  \n",
              "3 2019-01-16 13:00:03.911000064                      722632                 27  \n",
              "4 2018-11-22 12:53:41.529999872                     1775036                 25  "
            ],
            "text/html": [
              "\n",
              "  <div id=\"df-b7ba2f27-4700-4570-afee-7faca4d9f557\" class=\"colab-df-container\">\n",
              "    <div>\n",
              "<style scoped>\n",
              "    .dataframe tbody tr th:only-of-type {\n",
              "        vertical-align: middle;\n",
              "    }\n",
              "\n",
              "    .dataframe tbody tr th {\n",
              "        vertical-align: top;\n",
              "    }\n",
              "\n",
              "    .dataframe thead th {\n",
              "        text-align: right;\n",
              "    }\n",
              "</style>\n",
              "<table border=\"1\" class=\"dataframe\">\n",
              "  <thead>\n",
              "    <tr style=\"text-align: right;\">\n",
              "      <th></th>\n",
              "      <th>no</th>\n",
              "      <th>Row_Num</th>\n",
              "      <th>Customer_ID</th>\n",
              "      <th>Product</th>\n",
              "      <th>First_Transaction</th>\n",
              "      <th>Last_Transaction</th>\n",
              "      <th>Average_Transaction_Amount</th>\n",
              "      <th>Count_Transaction</th>\n",
              "    </tr>\n",
              "  </thead>\n",
              "  <tbody>\n",
              "    <tr>\n",
              "      <th>0</th>\n",
              "      <td>1</td>\n",
              "      <td>1</td>\n",
              "      <td>29531</td>\n",
              "      <td>Jaket</td>\n",
              "      <td>2016-06-19 02:44:34.396000000</td>\n",
              "      <td>2018-10-05 05:48:02.608000000</td>\n",
              "      <td>1467681</td>\n",
              "      <td>22</td>\n",
              "    </tr>\n",
              "    <tr>\n",
              "      <th>1</th>\n",
              "      <td>2</td>\n",
              "      <td>2</td>\n",
              "      <td>29531</td>\n",
              "      <td>Sepatu</td>\n",
              "      <td>2014-07-23 01:02:11.493999872</td>\n",
              "      <td>2018-12-25 11:02:41.269999872</td>\n",
              "      <td>1269337</td>\n",
              "      <td>41</td>\n",
              "    </tr>\n",
              "    <tr>\n",
              "      <th>2</th>\n",
              "      <td>3</td>\n",
              "      <td>3</td>\n",
              "      <td>141526</td>\n",
              "      <td>Tas</td>\n",
              "      <td>2017-04-28 03:12:27.000000000</td>\n",
              "      <td>2019-01-24 09:40:02.000000000</td>\n",
              "      <td>310915</td>\n",
              "      <td>30</td>\n",
              "    </tr>\n",
              "    <tr>\n",
              "      <th>3</th>\n",
              "      <td>4</td>\n",
              "      <td>4</td>\n",
              "      <td>141526</td>\n",
              "      <td>Jaket</td>\n",
              "      <td>2017-04-28 06:52:52.546999808</td>\n",
              "      <td>2019-01-16 13:00:03.911000064</td>\n",
              "      <td>722632</td>\n",
              "      <td>27</td>\n",
              "    </tr>\n",
              "    <tr>\n",
              "      <th>4</th>\n",
              "      <td>5</td>\n",
              "      <td>5</td>\n",
              "      <td>37545</td>\n",
              "      <td>Sepatu</td>\n",
              "      <td>2015-04-16 10:01:38.530999808</td>\n",
              "      <td>2018-11-22 12:53:41.529999872</td>\n",
              "      <td>1775036</td>\n",
              "      <td>25</td>\n",
              "    </tr>\n",
              "  </tbody>\n",
              "</table>\n",
              "</div>\n",
              "    <div class=\"colab-df-buttons\">\n",
              "\n",
              "  <div class=\"colab-df-container\">\n",
              "    <button class=\"colab-df-convert\" onclick=\"convertToInteractive('df-b7ba2f27-4700-4570-afee-7faca4d9f557')\"\n",
              "            title=\"Convert this dataframe to an interactive table.\"\n",
              "            style=\"display:none;\">\n",
              "\n",
              "  <svg xmlns=\"http://www.w3.org/2000/svg\" height=\"24px\" viewBox=\"0 -960 960 960\">\n",
              "    <path d=\"M120-120v-720h720v720H120Zm60-500h600v-160H180v160Zm220 220h160v-160H400v160Zm0 220h160v-160H400v160ZM180-400h160v-160H180v160Zm440 0h160v-160H620v160ZM180-180h160v-160H180v160Zm440 0h160v-160H620v160Z\"/>\n",
              "  </svg>\n",
              "    </button>\n",
              "\n",
              "  <style>\n",
              "    .colab-df-container {\n",
              "      display:flex;\n",
              "      gap: 12px;\n",
              "    }\n",
              "\n",
              "    .colab-df-convert {\n",
              "      background-color: #E8F0FE;\n",
              "      border: none;\n",
              "      border-radius: 50%;\n",
              "      cursor: pointer;\n",
              "      display: none;\n",
              "      fill: #1967D2;\n",
              "      height: 32px;\n",
              "      padding: 0 0 0 0;\n",
              "      width: 32px;\n",
              "    }\n",
              "\n",
              "    .colab-df-convert:hover {\n",
              "      background-color: #E2EBFA;\n",
              "      box-shadow: 0px 1px 2px rgba(60, 64, 67, 0.3), 0px 1px 3px 1px rgba(60, 64, 67, 0.15);\n",
              "      fill: #174EA6;\n",
              "    }\n",
              "\n",
              "    .colab-df-buttons div {\n",
              "      margin-bottom: 4px;\n",
              "    }\n",
              "\n",
              "    [theme=dark] .colab-df-convert {\n",
              "      background-color: #3B4455;\n",
              "      fill: #D2E3FC;\n",
              "    }\n",
              "\n",
              "    [theme=dark] .colab-df-convert:hover {\n",
              "      background-color: #434B5C;\n",
              "      box-shadow: 0px 1px 3px 1px rgba(0, 0, 0, 0.15);\n",
              "      filter: drop-shadow(0px 1px 2px rgba(0, 0, 0, 0.3));\n",
              "      fill: #FFFFFF;\n",
              "    }\n",
              "  </style>\n",
              "\n",
              "    <script>\n",
              "      const buttonEl =\n",
              "        document.querySelector('#df-b7ba2f27-4700-4570-afee-7faca4d9f557 button.colab-df-convert');\n",
              "      buttonEl.style.display =\n",
              "        google.colab.kernel.accessAllowed ? 'block' : 'none';\n",
              "\n",
              "      async function convertToInteractive(key) {\n",
              "        const element = document.querySelector('#df-b7ba2f27-4700-4570-afee-7faca4d9f557');\n",
              "        const dataTable =\n",
              "          await google.colab.kernel.invokeFunction('convertToInteractive',\n",
              "                                                    [key], {});\n",
              "        if (!dataTable) return;\n",
              "\n",
              "        const docLinkHtml = 'Like what you see? Visit the ' +\n",
              "          '<a target=\"_blank\" href=https://colab.research.google.com/notebooks/data_table.ipynb>data table notebook</a>'\n",
              "          + ' to learn more about interactive tables.';\n",
              "        element.innerHTML = '';\n",
              "        dataTable['output_type'] = 'display_data';\n",
              "        await google.colab.output.renderOutput(dataTable, element);\n",
              "        const docLink = document.createElement('div');\n",
              "        docLink.innerHTML = docLinkHtml;\n",
              "        element.appendChild(docLink);\n",
              "      }\n",
              "    </script>\n",
              "  </div>\n",
              "\n",
              "\n",
              "<div id=\"df-6e822630-4c41-4764-94e1-ddb3f3143e57\">\n",
              "  <button class=\"colab-df-quickchart\" onclick=\"quickchart('df-6e822630-4c41-4764-94e1-ddb3f3143e57')\"\n",
              "            title=\"Suggest charts\"\n",
              "            style=\"display:none;\">\n",
              "\n",
              "<svg xmlns=\"http://www.w3.org/2000/svg\" height=\"24px\"viewBox=\"0 0 24 24\"\n",
              "     width=\"24px\">\n",
              "    <g>\n",
              "        <path d=\"M19 3H5c-1.1 0-2 .9-2 2v14c0 1.1.9 2 2 2h14c1.1 0 2-.9 2-2V5c0-1.1-.9-2-2-2zM9 17H7v-7h2v7zm4 0h-2V7h2v10zm4 0h-2v-4h2v4z\"/>\n",
              "    </g>\n",
              "</svg>\n",
              "  </button>\n",
              "\n",
              "<style>\n",
              "  .colab-df-quickchart {\n",
              "      --bg-color: #E8F0FE;\n",
              "      --fill-color: #1967D2;\n",
              "      --hover-bg-color: #E2EBFA;\n",
              "      --hover-fill-color: #174EA6;\n",
              "      --disabled-fill-color: #AAA;\n",
              "      --disabled-bg-color: #DDD;\n",
              "  }\n",
              "\n",
              "  [theme=dark] .colab-df-quickchart {\n",
              "      --bg-color: #3B4455;\n",
              "      --fill-color: #D2E3FC;\n",
              "      --hover-bg-color: #434B5C;\n",
              "      --hover-fill-color: #FFFFFF;\n",
              "      --disabled-bg-color: #3B4455;\n",
              "      --disabled-fill-color: #666;\n",
              "  }\n",
              "\n",
              "  .colab-df-quickchart {\n",
              "    background-color: var(--bg-color);\n",
              "    border: none;\n",
              "    border-radius: 50%;\n",
              "    cursor: pointer;\n",
              "    display: none;\n",
              "    fill: var(--fill-color);\n",
              "    height: 32px;\n",
              "    padding: 0;\n",
              "    width: 32px;\n",
              "  }\n",
              "\n",
              "  .colab-df-quickchart:hover {\n",
              "    background-color: var(--hover-bg-color);\n",
              "    box-shadow: 0 1px 2px rgba(60, 64, 67, 0.3), 0 1px 3px 1px rgba(60, 64, 67, 0.15);\n",
              "    fill: var(--button-hover-fill-color);\n",
              "  }\n",
              "\n",
              "  .colab-df-quickchart-complete:disabled,\n",
              "  .colab-df-quickchart-complete:disabled:hover {\n",
              "    background-color: var(--disabled-bg-color);\n",
              "    fill: var(--disabled-fill-color);\n",
              "    box-shadow: none;\n",
              "  }\n",
              "\n",
              "  .colab-df-spinner {\n",
              "    border: 2px solid var(--fill-color);\n",
              "    border-color: transparent;\n",
              "    border-bottom-color: var(--fill-color);\n",
              "    animation:\n",
              "      spin 1s steps(1) infinite;\n",
              "  }\n",
              "\n",
              "  @keyframes spin {\n",
              "    0% {\n",
              "      border-color: transparent;\n",
              "      border-bottom-color: var(--fill-color);\n",
              "      border-left-color: var(--fill-color);\n",
              "    }\n",
              "    20% {\n",
              "      border-color: transparent;\n",
              "      border-left-color: var(--fill-color);\n",
              "      border-top-color: var(--fill-color);\n",
              "    }\n",
              "    30% {\n",
              "      border-color: transparent;\n",
              "      border-left-color: var(--fill-color);\n",
              "      border-top-color: var(--fill-color);\n",
              "      border-right-color: var(--fill-color);\n",
              "    }\n",
              "    40% {\n",
              "      border-color: transparent;\n",
              "      border-right-color: var(--fill-color);\n",
              "      border-top-color: var(--fill-color);\n",
              "    }\n",
              "    60% {\n",
              "      border-color: transparent;\n",
              "      border-right-color: var(--fill-color);\n",
              "    }\n",
              "    80% {\n",
              "      border-color: transparent;\n",
              "      border-right-color: var(--fill-color);\n",
              "      border-bottom-color: var(--fill-color);\n",
              "    }\n",
              "    90% {\n",
              "      border-color: transparent;\n",
              "      border-bottom-color: var(--fill-color);\n",
              "    }\n",
              "  }\n",
              "</style>\n",
              "\n",
              "  <script>\n",
              "    async function quickchart(key) {\n",
              "      const quickchartButtonEl =\n",
              "        document.querySelector('#' + key + ' button');\n",
              "      quickchartButtonEl.disabled = true;  // To prevent multiple clicks.\n",
              "      quickchartButtonEl.classList.add('colab-df-spinner');\n",
              "      try {\n",
              "        const charts = await google.colab.kernel.invokeFunction(\n",
              "            'suggestCharts', [key], {});\n",
              "      } catch (error) {\n",
              "        console.error('Error during call to suggestCharts:', error);\n",
              "      }\n",
              "      quickchartButtonEl.classList.remove('colab-df-spinner');\n",
              "      quickchartButtonEl.classList.add('colab-df-quickchart-complete');\n",
              "    }\n",
              "    (() => {\n",
              "      let quickchartButtonEl =\n",
              "        document.querySelector('#df-6e822630-4c41-4764-94e1-ddb3f3143e57 button');\n",
              "      quickchartButtonEl.style.display =\n",
              "        google.colab.kernel.accessAllowed ? 'block' : 'none';\n",
              "    })();\n",
              "  </script>\n",
              "</div>\n",
              "    </div>\n",
              "  </div>\n"
            ]
          },
          "metadata": {},
          "execution_count": 23
        }
      ]
    },
    {
      "cell_type": "code",
      "source": [
        "print('\\nDataset Info:')\n",
        "print(df.info())"
      ],
      "metadata": {
        "colab": {
          "base_uri": "https://localhost:8080/"
        },
        "id": "If_95B76qShX",
        "outputId": "2b108c8f-c2da-4d51-c918-6cb8d46aced4"
      },
      "execution_count": 24,
      "outputs": [
        {
          "output_type": "stream",
          "name": "stdout",
          "text": [
            "\n",
            "Dataset Info:\n",
            "<class 'pandas.core.frame.DataFrame'>\n",
            "RangeIndex: 100000 entries, 0 to 99999\n",
            "Data columns (total 8 columns):\n",
            " #   Column                      Non-Null Count   Dtype         \n",
            "---  ------                      --------------   -----         \n",
            " 0   no                          100000 non-null  int64         \n",
            " 1   Row_Num                     100000 non-null  int64         \n",
            " 2   Customer_ID                 100000 non-null  int64         \n",
            " 3   Product                     100000 non-null  object        \n",
            " 4   First_Transaction           100000 non-null  datetime64[ns]\n",
            " 5   Last_Transaction            100000 non-null  datetime64[ns]\n",
            " 6   Average_Transaction_Amount  100000 non-null  int64         \n",
            " 7   Count_Transaction           100000 non-null  int64         \n",
            "dtypes: datetime64[ns](2), int64(5), object(1)\n",
            "memory usage: 6.1+ MB\n",
            "None\n"
          ]
        }
      ]
    },
    {
      "cell_type": "markdown",
      "source": [
        "## [3] Churn Customers\n",
        "Look for the following to determine customer churn according to the definition provided:\n",
        "\n",
        "* When was the last transaction done.\n",
        "* Determine which customers are churning and which are not.\n",
        "\n",
        "Then print the top 5 data and dataset information.\n",
        "\n"
      ],
      "metadata": {
        "id": "vPMLo763vKNg"
      }
    },
    {
      "cell_type": "code",
      "source": [
        "print(max(df['Last_Transaction']))\n",
        "\n",
        "# Classify customers who have churn status or not with Booleans\n",
        "df.loc[df['Last_Transaction'] <= '2018-08-01', 'is_churn'] = True\n",
        "df.loc[df['Last_Transaction'] > '2018-08-01', 'is_churn'] = False"
      ],
      "metadata": {
        "colab": {
          "base_uri": "https://localhost:8080/"
        },
        "id": "KmA2nBz6wGFm",
        "outputId": "196492fd-a196-4a55-e460-782fa1536d2f"
      },
      "execution_count": 25,
      "outputs": [
        {
          "output_type": "stream",
          "name": "stdout",
          "text": [
            "2019-02-01 23:57:57.286000128\n"
          ]
        }
      ]
    },
    {
      "cell_type": "code",
      "source": [
        "print('Top 5 Data:')\n",
        "df.head()"
      ],
      "metadata": {
        "colab": {
          "base_uri": "https://localhost:8080/",
          "height": 330
        },
        "id": "IHTPwalorhDQ",
        "outputId": "95d72b16-f3ba-4734-a01b-949ee2572f06"
      },
      "execution_count": 26,
      "outputs": [
        {
          "output_type": "stream",
          "name": "stdout",
          "text": [
            "Top 5 Data:\n"
          ]
        },
        {
          "output_type": "execute_result",
          "data": {
            "text/plain": [
              "   no  Row_Num  Customer_ID Product             First_Transaction  \\\n",
              "0   1        1        29531   Jaket 2016-06-19 02:44:34.396000000   \n",
              "1   2        2        29531  Sepatu 2014-07-23 01:02:11.493999872   \n",
              "2   3        3       141526     Tas 2017-04-28 03:12:27.000000000   \n",
              "3   4        4       141526   Jaket 2017-04-28 06:52:52.546999808   \n",
              "4   5        5        37545  Sepatu 2015-04-16 10:01:38.530999808   \n",
              "\n",
              "               Last_Transaction  Average_Transaction_Amount  \\\n",
              "0 2018-10-05 05:48:02.608000000                     1467681   \n",
              "1 2018-12-25 11:02:41.269999872                     1269337   \n",
              "2 2019-01-24 09:40:02.000000000                      310915   \n",
              "3 2019-01-16 13:00:03.911000064                      722632   \n",
              "4 2018-11-22 12:53:41.529999872                     1775036   \n",
              "\n",
              "   Count_Transaction is_churn  \n",
              "0                 22    False  \n",
              "1                 41    False  \n",
              "2                 30    False  \n",
              "3                 27    False  \n",
              "4                 25    False  "
            ],
            "text/html": [
              "\n",
              "  <div id=\"df-ccaa5b96-500c-4c3c-ac4a-a080fe9fb064\" class=\"colab-df-container\">\n",
              "    <div>\n",
              "<style scoped>\n",
              "    .dataframe tbody tr th:only-of-type {\n",
              "        vertical-align: middle;\n",
              "    }\n",
              "\n",
              "    .dataframe tbody tr th {\n",
              "        vertical-align: top;\n",
              "    }\n",
              "\n",
              "    .dataframe thead th {\n",
              "        text-align: right;\n",
              "    }\n",
              "</style>\n",
              "<table border=\"1\" class=\"dataframe\">\n",
              "  <thead>\n",
              "    <tr style=\"text-align: right;\">\n",
              "      <th></th>\n",
              "      <th>no</th>\n",
              "      <th>Row_Num</th>\n",
              "      <th>Customer_ID</th>\n",
              "      <th>Product</th>\n",
              "      <th>First_Transaction</th>\n",
              "      <th>Last_Transaction</th>\n",
              "      <th>Average_Transaction_Amount</th>\n",
              "      <th>Count_Transaction</th>\n",
              "      <th>is_churn</th>\n",
              "    </tr>\n",
              "  </thead>\n",
              "  <tbody>\n",
              "    <tr>\n",
              "      <th>0</th>\n",
              "      <td>1</td>\n",
              "      <td>1</td>\n",
              "      <td>29531</td>\n",
              "      <td>Jaket</td>\n",
              "      <td>2016-06-19 02:44:34.396000000</td>\n",
              "      <td>2018-10-05 05:48:02.608000000</td>\n",
              "      <td>1467681</td>\n",
              "      <td>22</td>\n",
              "      <td>False</td>\n",
              "    </tr>\n",
              "    <tr>\n",
              "      <th>1</th>\n",
              "      <td>2</td>\n",
              "      <td>2</td>\n",
              "      <td>29531</td>\n",
              "      <td>Sepatu</td>\n",
              "      <td>2014-07-23 01:02:11.493999872</td>\n",
              "      <td>2018-12-25 11:02:41.269999872</td>\n",
              "      <td>1269337</td>\n",
              "      <td>41</td>\n",
              "      <td>False</td>\n",
              "    </tr>\n",
              "    <tr>\n",
              "      <th>2</th>\n",
              "      <td>3</td>\n",
              "      <td>3</td>\n",
              "      <td>141526</td>\n",
              "      <td>Tas</td>\n",
              "      <td>2017-04-28 03:12:27.000000000</td>\n",
              "      <td>2019-01-24 09:40:02.000000000</td>\n",
              "      <td>310915</td>\n",
              "      <td>30</td>\n",
              "      <td>False</td>\n",
              "    </tr>\n",
              "    <tr>\n",
              "      <th>3</th>\n",
              "      <td>4</td>\n",
              "      <td>4</td>\n",
              "      <td>141526</td>\n",
              "      <td>Jaket</td>\n",
              "      <td>2017-04-28 06:52:52.546999808</td>\n",
              "      <td>2019-01-16 13:00:03.911000064</td>\n",
              "      <td>722632</td>\n",
              "      <td>27</td>\n",
              "      <td>False</td>\n",
              "    </tr>\n",
              "    <tr>\n",
              "      <th>4</th>\n",
              "      <td>5</td>\n",
              "      <td>5</td>\n",
              "      <td>37545</td>\n",
              "      <td>Sepatu</td>\n",
              "      <td>2015-04-16 10:01:38.530999808</td>\n",
              "      <td>2018-11-22 12:53:41.529999872</td>\n",
              "      <td>1775036</td>\n",
              "      <td>25</td>\n",
              "      <td>False</td>\n",
              "    </tr>\n",
              "  </tbody>\n",
              "</table>\n",
              "</div>\n",
              "    <div class=\"colab-df-buttons\">\n",
              "\n",
              "  <div class=\"colab-df-container\">\n",
              "    <button class=\"colab-df-convert\" onclick=\"convertToInteractive('df-ccaa5b96-500c-4c3c-ac4a-a080fe9fb064')\"\n",
              "            title=\"Convert this dataframe to an interactive table.\"\n",
              "            style=\"display:none;\">\n",
              "\n",
              "  <svg xmlns=\"http://www.w3.org/2000/svg\" height=\"24px\" viewBox=\"0 -960 960 960\">\n",
              "    <path d=\"M120-120v-720h720v720H120Zm60-500h600v-160H180v160Zm220 220h160v-160H400v160Zm0 220h160v-160H400v160ZM180-400h160v-160H180v160Zm440 0h160v-160H620v160ZM180-180h160v-160H180v160Zm440 0h160v-160H620v160Z\"/>\n",
              "  </svg>\n",
              "    </button>\n",
              "\n",
              "  <style>\n",
              "    .colab-df-container {\n",
              "      display:flex;\n",
              "      gap: 12px;\n",
              "    }\n",
              "\n",
              "    .colab-df-convert {\n",
              "      background-color: #E8F0FE;\n",
              "      border: none;\n",
              "      border-radius: 50%;\n",
              "      cursor: pointer;\n",
              "      display: none;\n",
              "      fill: #1967D2;\n",
              "      height: 32px;\n",
              "      padding: 0 0 0 0;\n",
              "      width: 32px;\n",
              "    }\n",
              "\n",
              "    .colab-df-convert:hover {\n",
              "      background-color: #E2EBFA;\n",
              "      box-shadow: 0px 1px 2px rgba(60, 64, 67, 0.3), 0px 1px 3px 1px rgba(60, 64, 67, 0.15);\n",
              "      fill: #174EA6;\n",
              "    }\n",
              "\n",
              "    .colab-df-buttons div {\n",
              "      margin-bottom: 4px;\n",
              "    }\n",
              "\n",
              "    [theme=dark] .colab-df-convert {\n",
              "      background-color: #3B4455;\n",
              "      fill: #D2E3FC;\n",
              "    }\n",
              "\n",
              "    [theme=dark] .colab-df-convert:hover {\n",
              "      background-color: #434B5C;\n",
              "      box-shadow: 0px 1px 3px 1px rgba(0, 0, 0, 0.15);\n",
              "      filter: drop-shadow(0px 1px 2px rgba(0, 0, 0, 0.3));\n",
              "      fill: #FFFFFF;\n",
              "    }\n",
              "  </style>\n",
              "\n",
              "    <script>\n",
              "      const buttonEl =\n",
              "        document.querySelector('#df-ccaa5b96-500c-4c3c-ac4a-a080fe9fb064 button.colab-df-convert');\n",
              "      buttonEl.style.display =\n",
              "        google.colab.kernel.accessAllowed ? 'block' : 'none';\n",
              "\n",
              "      async function convertToInteractive(key) {\n",
              "        const element = document.querySelector('#df-ccaa5b96-500c-4c3c-ac4a-a080fe9fb064');\n",
              "        const dataTable =\n",
              "          await google.colab.kernel.invokeFunction('convertToInteractive',\n",
              "                                                    [key], {});\n",
              "        if (!dataTable) return;\n",
              "\n",
              "        const docLinkHtml = 'Like what you see? Visit the ' +\n",
              "          '<a target=\"_blank\" href=https://colab.research.google.com/notebooks/data_table.ipynb>data table notebook</a>'\n",
              "          + ' to learn more about interactive tables.';\n",
              "        element.innerHTML = '';\n",
              "        dataTable['output_type'] = 'display_data';\n",
              "        await google.colab.output.renderOutput(dataTable, element);\n",
              "        const docLink = document.createElement('div');\n",
              "        docLink.innerHTML = docLinkHtml;\n",
              "        element.appendChild(docLink);\n",
              "      }\n",
              "    </script>\n",
              "  </div>\n",
              "\n",
              "\n",
              "<div id=\"df-d8f8a8ee-cebb-4f10-8075-080091dbd8fc\">\n",
              "  <button class=\"colab-df-quickchart\" onclick=\"quickchart('df-d8f8a8ee-cebb-4f10-8075-080091dbd8fc')\"\n",
              "            title=\"Suggest charts\"\n",
              "            style=\"display:none;\">\n",
              "\n",
              "<svg xmlns=\"http://www.w3.org/2000/svg\" height=\"24px\"viewBox=\"0 0 24 24\"\n",
              "     width=\"24px\">\n",
              "    <g>\n",
              "        <path d=\"M19 3H5c-1.1 0-2 .9-2 2v14c0 1.1.9 2 2 2h14c1.1 0 2-.9 2-2V5c0-1.1-.9-2-2-2zM9 17H7v-7h2v7zm4 0h-2V7h2v10zm4 0h-2v-4h2v4z\"/>\n",
              "    </g>\n",
              "</svg>\n",
              "  </button>\n",
              "\n",
              "<style>\n",
              "  .colab-df-quickchart {\n",
              "      --bg-color: #E8F0FE;\n",
              "      --fill-color: #1967D2;\n",
              "      --hover-bg-color: #E2EBFA;\n",
              "      --hover-fill-color: #174EA6;\n",
              "      --disabled-fill-color: #AAA;\n",
              "      --disabled-bg-color: #DDD;\n",
              "  }\n",
              "\n",
              "  [theme=dark] .colab-df-quickchart {\n",
              "      --bg-color: #3B4455;\n",
              "      --fill-color: #D2E3FC;\n",
              "      --hover-bg-color: #434B5C;\n",
              "      --hover-fill-color: #FFFFFF;\n",
              "      --disabled-bg-color: #3B4455;\n",
              "      --disabled-fill-color: #666;\n",
              "  }\n",
              "\n",
              "  .colab-df-quickchart {\n",
              "    background-color: var(--bg-color);\n",
              "    border: none;\n",
              "    border-radius: 50%;\n",
              "    cursor: pointer;\n",
              "    display: none;\n",
              "    fill: var(--fill-color);\n",
              "    height: 32px;\n",
              "    padding: 0;\n",
              "    width: 32px;\n",
              "  }\n",
              "\n",
              "  .colab-df-quickchart:hover {\n",
              "    background-color: var(--hover-bg-color);\n",
              "    box-shadow: 0 1px 2px rgba(60, 64, 67, 0.3), 0 1px 3px 1px rgba(60, 64, 67, 0.15);\n",
              "    fill: var(--button-hover-fill-color);\n",
              "  }\n",
              "\n",
              "  .colab-df-quickchart-complete:disabled,\n",
              "  .colab-df-quickchart-complete:disabled:hover {\n",
              "    background-color: var(--disabled-bg-color);\n",
              "    fill: var(--disabled-fill-color);\n",
              "    box-shadow: none;\n",
              "  }\n",
              "\n",
              "  .colab-df-spinner {\n",
              "    border: 2px solid var(--fill-color);\n",
              "    border-color: transparent;\n",
              "    border-bottom-color: var(--fill-color);\n",
              "    animation:\n",
              "      spin 1s steps(1) infinite;\n",
              "  }\n",
              "\n",
              "  @keyframes spin {\n",
              "    0% {\n",
              "      border-color: transparent;\n",
              "      border-bottom-color: var(--fill-color);\n",
              "      border-left-color: var(--fill-color);\n",
              "    }\n",
              "    20% {\n",
              "      border-color: transparent;\n",
              "      border-left-color: var(--fill-color);\n",
              "      border-top-color: var(--fill-color);\n",
              "    }\n",
              "    30% {\n",
              "      border-color: transparent;\n",
              "      border-left-color: var(--fill-color);\n",
              "      border-top-color: var(--fill-color);\n",
              "      border-right-color: var(--fill-color);\n",
              "    }\n",
              "    40% {\n",
              "      border-color: transparent;\n",
              "      border-right-color: var(--fill-color);\n",
              "      border-top-color: var(--fill-color);\n",
              "    }\n",
              "    60% {\n",
              "      border-color: transparent;\n",
              "      border-right-color: var(--fill-color);\n",
              "    }\n",
              "    80% {\n",
              "      border-color: transparent;\n",
              "      border-right-color: var(--fill-color);\n",
              "      border-bottom-color: var(--fill-color);\n",
              "    }\n",
              "    90% {\n",
              "      border-color: transparent;\n",
              "      border-bottom-color: var(--fill-color);\n",
              "    }\n",
              "  }\n",
              "</style>\n",
              "\n",
              "  <script>\n",
              "    async function quickchart(key) {\n",
              "      const quickchartButtonEl =\n",
              "        document.querySelector('#' + key + ' button');\n",
              "      quickchartButtonEl.disabled = true;  // To prevent multiple clicks.\n",
              "      quickchartButtonEl.classList.add('colab-df-spinner');\n",
              "      try {\n",
              "        const charts = await google.colab.kernel.invokeFunction(\n",
              "            'suggestCharts', [key], {});\n",
              "      } catch (error) {\n",
              "        console.error('Error during call to suggestCharts:', error);\n",
              "      }\n",
              "      quickchartButtonEl.classList.remove('colab-df-spinner');\n",
              "      quickchartButtonEl.classList.add('colab-df-quickchart-complete');\n",
              "    }\n",
              "    (() => {\n",
              "      let quickchartButtonEl =\n",
              "        document.querySelector('#df-d8f8a8ee-cebb-4f10-8075-080091dbd8fc button');\n",
              "      quickchartButtonEl.style.display =\n",
              "        google.colab.kernel.accessAllowed ? 'block' : 'none';\n",
              "    })();\n",
              "  </script>\n",
              "</div>\n",
              "    </div>\n",
              "  </div>\n"
            ]
          },
          "metadata": {},
          "execution_count": 26
        }
      ]
    },
    {
      "cell_type": "code",
      "source": [
        "print('\\nDataset Info:')\n",
        "df.info()"
      ],
      "metadata": {
        "colab": {
          "base_uri": "https://localhost:8080/"
        },
        "id": "S-oFoWgfrm0x",
        "outputId": "deafb12d-3c1a-4bcd-c8f7-1754a9815530"
      },
      "execution_count": 27,
      "outputs": [
        {
          "output_type": "stream",
          "name": "stdout",
          "text": [
            "\n",
            "Dataset Info:\n",
            "<class 'pandas.core.frame.DataFrame'>\n",
            "RangeIndex: 100000 entries, 0 to 99999\n",
            "Data columns (total 9 columns):\n",
            " #   Column                      Non-Null Count   Dtype         \n",
            "---  ------                      --------------   -----         \n",
            " 0   no                          100000 non-null  int64         \n",
            " 1   Row_Num                     100000 non-null  int64         \n",
            " 2   Customer_ID                 100000 non-null  int64         \n",
            " 3   Product                     100000 non-null  object        \n",
            " 4   First_Transaction           100000 non-null  datetime64[ns]\n",
            " 5   Last_Transaction            100000 non-null  datetime64[ns]\n",
            " 6   Average_Transaction_Amount  100000 non-null  int64         \n",
            " 7   Count_Transaction           100000 non-null  int64         \n",
            " 8   is_churn                    100000 non-null  object        \n",
            "dtypes: datetime64[ns](2), int64(5), object(2)\n",
            "memory usage: 6.9+ MB\n"
          ]
        }
      ]
    },
    {
      "cell_type": "markdown",
      "source": [
        "## [4] Delete Unnecessary Columns\n",
        "Based on the columns in the dataset, it appears that the **no** and **Row_Num** columns are unnecessary because they have no effect on the data analysis process and only serve as indexes/row numbering."
      ],
      "metadata": {
        "id": "ym_4RUBNyodO"
      }
    },
    {
      "cell_type": "code",
      "source": [
        "# Delete columns that are unnecessary\n",
        "del df['no']\n",
        "del df['Row_Num']"
      ],
      "metadata": {
        "id": "AnERn2olz-nB"
      },
      "execution_count": 28,
      "outputs": []
    },
    {
      "cell_type": "code",
      "source": [
        "print('Top 5 Data:')\n",
        "df.head()"
      ],
      "metadata": {
        "colab": {
          "base_uri": "https://localhost:8080/",
          "height": 330
        },
        "id": "H0Le0iwEsdNR",
        "outputId": "05508e12-cdf5-44db-adcd-6479739b58ab"
      },
      "execution_count": 29,
      "outputs": [
        {
          "output_type": "stream",
          "name": "stdout",
          "text": [
            "Top 5 Data:\n"
          ]
        },
        {
          "output_type": "execute_result",
          "data": {
            "text/plain": [
              "   Customer_ID Product             First_Transaction  \\\n",
              "0        29531   Jaket 2016-06-19 02:44:34.396000000   \n",
              "1        29531  Sepatu 2014-07-23 01:02:11.493999872   \n",
              "2       141526     Tas 2017-04-28 03:12:27.000000000   \n",
              "3       141526   Jaket 2017-04-28 06:52:52.546999808   \n",
              "4        37545  Sepatu 2015-04-16 10:01:38.530999808   \n",
              "\n",
              "               Last_Transaction  Average_Transaction_Amount  \\\n",
              "0 2018-10-05 05:48:02.608000000                     1467681   \n",
              "1 2018-12-25 11:02:41.269999872                     1269337   \n",
              "2 2019-01-24 09:40:02.000000000                      310915   \n",
              "3 2019-01-16 13:00:03.911000064                      722632   \n",
              "4 2018-11-22 12:53:41.529999872                     1775036   \n",
              "\n",
              "   Count_Transaction is_churn  \n",
              "0                 22    False  \n",
              "1                 41    False  \n",
              "2                 30    False  \n",
              "3                 27    False  \n",
              "4                 25    False  "
            ],
            "text/html": [
              "\n",
              "  <div id=\"df-e203c0a7-146b-4e9c-b8f2-35810c474306\" class=\"colab-df-container\">\n",
              "    <div>\n",
              "<style scoped>\n",
              "    .dataframe tbody tr th:only-of-type {\n",
              "        vertical-align: middle;\n",
              "    }\n",
              "\n",
              "    .dataframe tbody tr th {\n",
              "        vertical-align: top;\n",
              "    }\n",
              "\n",
              "    .dataframe thead th {\n",
              "        text-align: right;\n",
              "    }\n",
              "</style>\n",
              "<table border=\"1\" class=\"dataframe\">\n",
              "  <thead>\n",
              "    <tr style=\"text-align: right;\">\n",
              "      <th></th>\n",
              "      <th>Customer_ID</th>\n",
              "      <th>Product</th>\n",
              "      <th>First_Transaction</th>\n",
              "      <th>Last_Transaction</th>\n",
              "      <th>Average_Transaction_Amount</th>\n",
              "      <th>Count_Transaction</th>\n",
              "      <th>is_churn</th>\n",
              "    </tr>\n",
              "  </thead>\n",
              "  <tbody>\n",
              "    <tr>\n",
              "      <th>0</th>\n",
              "      <td>29531</td>\n",
              "      <td>Jaket</td>\n",
              "      <td>2016-06-19 02:44:34.396000000</td>\n",
              "      <td>2018-10-05 05:48:02.608000000</td>\n",
              "      <td>1467681</td>\n",
              "      <td>22</td>\n",
              "      <td>False</td>\n",
              "    </tr>\n",
              "    <tr>\n",
              "      <th>1</th>\n",
              "      <td>29531</td>\n",
              "      <td>Sepatu</td>\n",
              "      <td>2014-07-23 01:02:11.493999872</td>\n",
              "      <td>2018-12-25 11:02:41.269999872</td>\n",
              "      <td>1269337</td>\n",
              "      <td>41</td>\n",
              "      <td>False</td>\n",
              "    </tr>\n",
              "    <tr>\n",
              "      <th>2</th>\n",
              "      <td>141526</td>\n",
              "      <td>Tas</td>\n",
              "      <td>2017-04-28 03:12:27.000000000</td>\n",
              "      <td>2019-01-24 09:40:02.000000000</td>\n",
              "      <td>310915</td>\n",
              "      <td>30</td>\n",
              "      <td>False</td>\n",
              "    </tr>\n",
              "    <tr>\n",
              "      <th>3</th>\n",
              "      <td>141526</td>\n",
              "      <td>Jaket</td>\n",
              "      <td>2017-04-28 06:52:52.546999808</td>\n",
              "      <td>2019-01-16 13:00:03.911000064</td>\n",
              "      <td>722632</td>\n",
              "      <td>27</td>\n",
              "      <td>False</td>\n",
              "    </tr>\n",
              "    <tr>\n",
              "      <th>4</th>\n",
              "      <td>37545</td>\n",
              "      <td>Sepatu</td>\n",
              "      <td>2015-04-16 10:01:38.530999808</td>\n",
              "      <td>2018-11-22 12:53:41.529999872</td>\n",
              "      <td>1775036</td>\n",
              "      <td>25</td>\n",
              "      <td>False</td>\n",
              "    </tr>\n",
              "  </tbody>\n",
              "</table>\n",
              "</div>\n",
              "    <div class=\"colab-df-buttons\">\n",
              "\n",
              "  <div class=\"colab-df-container\">\n",
              "    <button class=\"colab-df-convert\" onclick=\"convertToInteractive('df-e203c0a7-146b-4e9c-b8f2-35810c474306')\"\n",
              "            title=\"Convert this dataframe to an interactive table.\"\n",
              "            style=\"display:none;\">\n",
              "\n",
              "  <svg xmlns=\"http://www.w3.org/2000/svg\" height=\"24px\" viewBox=\"0 -960 960 960\">\n",
              "    <path d=\"M120-120v-720h720v720H120Zm60-500h600v-160H180v160Zm220 220h160v-160H400v160Zm0 220h160v-160H400v160ZM180-400h160v-160H180v160Zm440 0h160v-160H620v160ZM180-180h160v-160H180v160Zm440 0h160v-160H620v160Z\"/>\n",
              "  </svg>\n",
              "    </button>\n",
              "\n",
              "  <style>\n",
              "    .colab-df-container {\n",
              "      display:flex;\n",
              "      gap: 12px;\n",
              "    }\n",
              "\n",
              "    .colab-df-convert {\n",
              "      background-color: #E8F0FE;\n",
              "      border: none;\n",
              "      border-radius: 50%;\n",
              "      cursor: pointer;\n",
              "      display: none;\n",
              "      fill: #1967D2;\n",
              "      height: 32px;\n",
              "      padding: 0 0 0 0;\n",
              "      width: 32px;\n",
              "    }\n",
              "\n",
              "    .colab-df-convert:hover {\n",
              "      background-color: #E2EBFA;\n",
              "      box-shadow: 0px 1px 2px rgba(60, 64, 67, 0.3), 0px 1px 3px 1px rgba(60, 64, 67, 0.15);\n",
              "      fill: #174EA6;\n",
              "    }\n",
              "\n",
              "    .colab-df-buttons div {\n",
              "      margin-bottom: 4px;\n",
              "    }\n",
              "\n",
              "    [theme=dark] .colab-df-convert {\n",
              "      background-color: #3B4455;\n",
              "      fill: #D2E3FC;\n",
              "    }\n",
              "\n",
              "    [theme=dark] .colab-df-convert:hover {\n",
              "      background-color: #434B5C;\n",
              "      box-shadow: 0px 1px 3px 1px rgba(0, 0, 0, 0.15);\n",
              "      filter: drop-shadow(0px 1px 2px rgba(0, 0, 0, 0.3));\n",
              "      fill: #FFFFFF;\n",
              "    }\n",
              "  </style>\n",
              "\n",
              "    <script>\n",
              "      const buttonEl =\n",
              "        document.querySelector('#df-e203c0a7-146b-4e9c-b8f2-35810c474306 button.colab-df-convert');\n",
              "      buttonEl.style.display =\n",
              "        google.colab.kernel.accessAllowed ? 'block' : 'none';\n",
              "\n",
              "      async function convertToInteractive(key) {\n",
              "        const element = document.querySelector('#df-e203c0a7-146b-4e9c-b8f2-35810c474306');\n",
              "        const dataTable =\n",
              "          await google.colab.kernel.invokeFunction('convertToInteractive',\n",
              "                                                    [key], {});\n",
              "        if (!dataTable) return;\n",
              "\n",
              "        const docLinkHtml = 'Like what you see? Visit the ' +\n",
              "          '<a target=\"_blank\" href=https://colab.research.google.com/notebooks/data_table.ipynb>data table notebook</a>'\n",
              "          + ' to learn more about interactive tables.';\n",
              "        element.innerHTML = '';\n",
              "        dataTable['output_type'] = 'display_data';\n",
              "        await google.colab.output.renderOutput(dataTable, element);\n",
              "        const docLink = document.createElement('div');\n",
              "        docLink.innerHTML = docLinkHtml;\n",
              "        element.appendChild(docLink);\n",
              "      }\n",
              "    </script>\n",
              "  </div>\n",
              "\n",
              "\n",
              "<div id=\"df-b8d6f21b-9516-4e9a-97c8-c79e83890615\">\n",
              "  <button class=\"colab-df-quickchart\" onclick=\"quickchart('df-b8d6f21b-9516-4e9a-97c8-c79e83890615')\"\n",
              "            title=\"Suggest charts\"\n",
              "            style=\"display:none;\">\n",
              "\n",
              "<svg xmlns=\"http://www.w3.org/2000/svg\" height=\"24px\"viewBox=\"0 0 24 24\"\n",
              "     width=\"24px\">\n",
              "    <g>\n",
              "        <path d=\"M19 3H5c-1.1 0-2 .9-2 2v14c0 1.1.9 2 2 2h14c1.1 0 2-.9 2-2V5c0-1.1-.9-2-2-2zM9 17H7v-7h2v7zm4 0h-2V7h2v10zm4 0h-2v-4h2v4z\"/>\n",
              "    </g>\n",
              "</svg>\n",
              "  </button>\n",
              "\n",
              "<style>\n",
              "  .colab-df-quickchart {\n",
              "      --bg-color: #E8F0FE;\n",
              "      --fill-color: #1967D2;\n",
              "      --hover-bg-color: #E2EBFA;\n",
              "      --hover-fill-color: #174EA6;\n",
              "      --disabled-fill-color: #AAA;\n",
              "      --disabled-bg-color: #DDD;\n",
              "  }\n",
              "\n",
              "  [theme=dark] .colab-df-quickchart {\n",
              "      --bg-color: #3B4455;\n",
              "      --fill-color: #D2E3FC;\n",
              "      --hover-bg-color: #434B5C;\n",
              "      --hover-fill-color: #FFFFFF;\n",
              "      --disabled-bg-color: #3B4455;\n",
              "      --disabled-fill-color: #666;\n",
              "  }\n",
              "\n",
              "  .colab-df-quickchart {\n",
              "    background-color: var(--bg-color);\n",
              "    border: none;\n",
              "    border-radius: 50%;\n",
              "    cursor: pointer;\n",
              "    display: none;\n",
              "    fill: var(--fill-color);\n",
              "    height: 32px;\n",
              "    padding: 0;\n",
              "    width: 32px;\n",
              "  }\n",
              "\n",
              "  .colab-df-quickchart:hover {\n",
              "    background-color: var(--hover-bg-color);\n",
              "    box-shadow: 0 1px 2px rgba(60, 64, 67, 0.3), 0 1px 3px 1px rgba(60, 64, 67, 0.15);\n",
              "    fill: var(--button-hover-fill-color);\n",
              "  }\n",
              "\n",
              "  .colab-df-quickchart-complete:disabled,\n",
              "  .colab-df-quickchart-complete:disabled:hover {\n",
              "    background-color: var(--disabled-bg-color);\n",
              "    fill: var(--disabled-fill-color);\n",
              "    box-shadow: none;\n",
              "  }\n",
              "\n",
              "  .colab-df-spinner {\n",
              "    border: 2px solid var(--fill-color);\n",
              "    border-color: transparent;\n",
              "    border-bottom-color: var(--fill-color);\n",
              "    animation:\n",
              "      spin 1s steps(1) infinite;\n",
              "  }\n",
              "\n",
              "  @keyframes spin {\n",
              "    0% {\n",
              "      border-color: transparent;\n",
              "      border-bottom-color: var(--fill-color);\n",
              "      border-left-color: var(--fill-color);\n",
              "    }\n",
              "    20% {\n",
              "      border-color: transparent;\n",
              "      border-left-color: var(--fill-color);\n",
              "      border-top-color: var(--fill-color);\n",
              "    }\n",
              "    30% {\n",
              "      border-color: transparent;\n",
              "      border-left-color: var(--fill-color);\n",
              "      border-top-color: var(--fill-color);\n",
              "      border-right-color: var(--fill-color);\n",
              "    }\n",
              "    40% {\n",
              "      border-color: transparent;\n",
              "      border-right-color: var(--fill-color);\n",
              "      border-top-color: var(--fill-color);\n",
              "    }\n",
              "    60% {\n",
              "      border-color: transparent;\n",
              "      border-right-color: var(--fill-color);\n",
              "    }\n",
              "    80% {\n",
              "      border-color: transparent;\n",
              "      border-right-color: var(--fill-color);\n",
              "      border-bottom-color: var(--fill-color);\n",
              "    }\n",
              "    90% {\n",
              "      border-color: transparent;\n",
              "      border-bottom-color: var(--fill-color);\n",
              "    }\n",
              "  }\n",
              "</style>\n",
              "\n",
              "  <script>\n",
              "    async function quickchart(key) {\n",
              "      const quickchartButtonEl =\n",
              "        document.querySelector('#' + key + ' button');\n",
              "      quickchartButtonEl.disabled = true;  // To prevent multiple clicks.\n",
              "      quickchartButtonEl.classList.add('colab-df-spinner');\n",
              "      try {\n",
              "        const charts = await google.colab.kernel.invokeFunction(\n",
              "            'suggestCharts', [key], {});\n",
              "      } catch (error) {\n",
              "        console.error('Error during call to suggestCharts:', error);\n",
              "      }\n",
              "      quickchartButtonEl.classList.remove('colab-df-spinner');\n",
              "      quickchartButtonEl.classList.add('colab-df-quickchart-complete');\n",
              "    }\n",
              "    (() => {\n",
              "      let quickchartButtonEl =\n",
              "        document.querySelector('#df-b8d6f21b-9516-4e9a-97c8-c79e83890615 button');\n",
              "      quickchartButtonEl.style.display =\n",
              "        google.colab.kernel.accessAllowed ? 'block' : 'none';\n",
              "    })();\n",
              "  </script>\n",
              "</div>\n",
              "    </div>\n",
              "  </div>\n"
            ]
          },
          "metadata": {},
          "execution_count": 29
        }
      ]
    },
    {
      "cell_type": "code",
      "source": [
        "print('\\nDataset Info:')\n",
        "df.info()"
      ],
      "metadata": {
        "colab": {
          "base_uri": "https://localhost:8080/"
        },
        "id": "AMsR4-MCsjCE",
        "outputId": "aea6981d-85b8-409c-8f02-675e1e14a52e"
      },
      "execution_count": 30,
      "outputs": [
        {
          "output_type": "stream",
          "name": "stdout",
          "text": [
            "\n",
            "Dataset Info:\n",
            "<class 'pandas.core.frame.DataFrame'>\n",
            "RangeIndex: 100000 entries, 0 to 99999\n",
            "Data columns (total 7 columns):\n",
            " #   Column                      Non-Null Count   Dtype         \n",
            "---  ------                      --------------   -----         \n",
            " 0   Customer_ID                 100000 non-null  int64         \n",
            " 1   Product                     100000 non-null  object        \n",
            " 2   First_Transaction           100000 non-null  datetime64[ns]\n",
            " 3   Last_Transaction            100000 non-null  datetime64[ns]\n",
            " 4   Average_Transaction_Amount  100000 non-null  int64         \n",
            " 5   Count_Transaction           100000 non-null  int64         \n",
            " 6   is_churn                    100000 non-null  object        \n",
            "dtypes: datetime64[ns](2), int64(3), object(2)\n",
            "memory usage: 5.3+ MB\n"
          ]
        }
      ]
    },
    {
      "cell_type": "markdown",
      "source": [
        "# **DATA UNDERSRTANDING WITH VISUALIZATION**"
      ],
      "metadata": {
        "id": "vDAXD1zkncaB"
      }
    },
    {
      "cell_type": "markdown",
      "source": [
        "Get insight from the visualization results that have been created."
      ],
      "metadata": {
        "id": "JW94qXU7npSf"
      }
    },
    {
      "cell_type": "markdown",
      "source": [
        "## [5] Data Visualization of Customer acquisition by Year\n",
        "The following step is to use a bar chart to create a data visualization of a customer acquisition trend by year. As a result, before performing the visualization, add additional features/columns that represent the year of the **First_Transaction** and the year of the **Last_Transaction**, respectively, with the names **Year_First_Transaction** and **Year_Last_Transaction**.\n"
      ],
      "metadata": {
        "id": "790E58Zn0qeV"
      }
    },
    {
      "cell_type": "code",
      "source": [
        "import matplotlib.pyplot as plt\n",
        "\n",
        "df['Year_First_Transaction'] = df['First_Transaction'].dt.year\n",
        "df['Year_Last_Transaction'] = df['Last_Transaction'].dt.year\n",
        "\n",
        "df_year = df.groupby(['Year_First_Transaction'])['Customer_ID'].count()\n",
        "df_year.plot(x='Year_First_Transaction', y='Customer_ID', kind='bar', title='Graph of Customer Acquisition')\n",
        "plt.xlabel('Year_First_Transaction')\n",
        "plt.ylabel('Num_of_Customer')\n",
        "plt.tight_layout()\n",
        "plt.show()"
      ],
      "metadata": {
        "colab": {
          "base_uri": "https://localhost:8080/",
          "height": 487
        },
        "id": "pTR0kddv1zpP",
        "outputId": "f8c75ada-7fd8-47a4-e349-c42294dd1d75"
      },
      "execution_count": 31,
      "outputs": [
        {
          "output_type": "display_data",
          "data": {
            "text/plain": [
              "<Figure size 640x480 with 1 Axes>"
            ],
            "image/png": "[encoded data removed]"
          },
          "metadata": {}
        }
      ]
    },
    {
      "cell_type": "markdown",
      "source": [
        "## [6] Data Visualization of Transaction by Year\n",
        "Then, using a bar chart to depict the trend in the number of transactions per year."
      ],
      "metadata": {
        "id": "CpVJpU-d3hDW"
      }
    },
    {
      "cell_type": "code",
      "source": [
        "df_year = df.groupby(['Year_First_Transaction'])['Count_Transaction'].sum()\n",
        "df_year.plot(x='Year_First_Transaction', y='Count_Transaction', kind='bar', title='Graph of Transaction Customer')\n",
        "plt.xlabel('Year_First_Transaction')\n",
        "plt.ylabel('Num_of_Transaction')\n",
        "plt.tight_layout()\n",
        "plt.show()"
      ],
      "metadata": {
        "colab": {
          "base_uri": "https://localhost:8080/",
          "height": 487
        },
        "id": "vwrB3M3Y38y5",
        "outputId": "b72d4753-5c00-4272-f5f0-5a8724b3193d"
      },
      "execution_count": 32,
      "outputs": [
        {
          "output_type": "display_data",
          "data": {
            "text/plain": [
              "<Figure size 640x480 with 1 Axes>"
            ],
            "image/png": "[encoded data removed]"
          },
          "metadata": {}
        }
      ]
    },
    {
      "cell_type": "markdown",
      "source": [
        "## [7] Data Visualization of Average Transaction Amount by Year\n",
        "After that, visualize the year-on-year trend in the average number of transactions for each product using the Seaborn Point Plot.\n"
      ],
      "metadata": {
        "id": "F6wYK3p04Hkf"
      }
    },
    {
      "cell_type": "code",
      "source": [
        "import seaborn as sns\n",
        "\n",
        "sns.pointplot(data = df.groupby(['Year_First_Transaction', 'Product']).mean().reset_index(),\n",
        "              x='Year_First_Transaction',\n",
        "              y='Average_Transaction_Amount',\n",
        "              hue='Product')\n",
        "plt.tight_layout()\n",
        "plt.show()"
      ],
      "metadata": {
        "colab": {
          "base_uri": "https://localhost:8080/",
          "height": 542
        },
        "id": "dch8fQkt4DQu",
        "outputId": "f38a6ece-693d-4d38-b412-72294be7fd56"
      },
      "execution_count": 33,
      "outputs": [
        {
          "output_type": "stream",
          "name": "stderr",
          "text": [
            "<ipython-input-33-50aeaec16757>:3: FutureWarning: The default value of numeric_only in DataFrameGroupBy.mean is deprecated. In a future version, numeric_only will default to False. Either specify numeric_only or select only columns which should be valid for the function.\n",
            "  sns.pointplot(data = df.groupby(['Year_First_Transaction', 'Product']).mean().reset_index(),\n"
          ]
        },
        {
          "output_type": "display_data",
          "data": {
            "text/plain": [
              "<Figure size 640x480 with 1 Axes>"
            ],
            "image/png": "[encoded data removed]"
          },
          "metadata": {}
        }
      ]
    },
    {
      "cell_type": "markdown",
      "source": [
        "## [8] Proportion of Churned Customers for Each Product\n",
        "A pie chart can provide insight into churned customers, particularly the proportion of churned customers for each product. Create the pie chart for the four products."
      ],
      "metadata": {
        "id": "PgRS-B0k5eqI"
      }
    },
    {
      "cell_type": "code",
      "source": [
        "# Create a pivot table\n",
        "df_piv = df.pivot_table(index='is_churn',\n",
        "                        columns='Product',\n",
        "                        values='Customer_ID',\n",
        "                        aggfunc='count',\n",
        "                        fill_value=0)\n",
        "# Get Proportion Churn by Product\n",
        "plot_product = df_piv.count().sort_values(ascending=False).head(5).index\n",
        "# Plot Pie the Chart\n",
        "df_piv = df_piv.reindex(columns=plot_product)\n",
        "df_piv.plot.pie(subplots=True,\n",
        "                figsize=(10, 7),\n",
        "                layout=(-1, 2),\n",
        "                autopct='%1.0f%%',\n",
        "                title='Proportion Churn by Product')\n",
        "plt.tight_layout()\n",
        "plt.show()"
      ],
      "metadata": {
        "colab": {
          "base_uri": "https://localhost:8080/",
          "height": 705
        },
        "id": "iaP4TY6L4_p4",
        "outputId": "d87134e1-22b4-4119-c52c-d84d4efdb606"
      },
      "execution_count": 34,
      "outputs": [
        {
          "output_type": "display_data",
          "data": {
            "text/plain": [
              "<Figure size 1000x700 with 4 Axes>"
            ],
            "image/png": "[encoded data removed]"
          },
          "metadata": {}
        }
      ]
    },
    {
      "cell_type": "markdown",
      "source": [
        "## [9] Distribution of Transaction Count Categorization\n",
        " Next, the categorization distribution of the number of transactions will be visualized. This classification is accomplished by grouping the number of transactions, as shown in the table below:\n",
        "\n",
        " ![1.png](data:image/png;base64,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)\n",
        "\n",
        " After adding a new column for this category with the name **Count_Transaction_Group**, visualize it with a bar chart."
      ],
      "metadata": {
        "id": "U_RSMu-q7D3e"
      }
    },
    {
      "cell_type": "code",
      "source": [
        "# Group of number of transaction\n",
        "def func(row):\n",
        "    if row['Count_Transaction'] == 1:\n",
        "        val = '1. 1'\n",
        "    elif (row['Count_Transaction'] > 1 and row['Count_Transaction'] <= 3):\n",
        "        val ='2. 2 - 3'\n",
        "    elif (row['Count_Transaction'] > 3 and row['Count_Transaction'] <= 6):\n",
        "        val ='3. 4 - 6'\n",
        "    elif (row['Count_Transaction'] > 6 and row['Count_Transaction'] <= 10):\n",
        "        val ='4. 7 - 10'\n",
        "    else:\n",
        "        val ='5. >10'\n",
        "    return val\n",
        "# Add new column\n",
        "df['Count_Transaction_Group'] = df.apply(func, axis=1)\n",
        "\n",
        "df_year = df.groupby(['Count_Transaction_Group'])['Customer_ID'].count()\n",
        "df_year.plot(x='Count_Transaction_Group', y='Customer_ID', kind='bar', title='Customer Distribution by Count Transaction Group')\n",
        "plt.xlabel('Count_Transaction_Group')\n",
        "plt.ylabel('Num_of_Customer')\n",
        "plt.tight_layout()\n",
        "plt.show()"
      ],
      "metadata": {
        "colab": {
          "base_uri": "https://localhost:8080/",
          "height": 487
        },
        "id": "5FVeNQat7Yib",
        "outputId": "d9307998-4269-4857-b835-4276436a9333"
      },
      "execution_count": 35,
      "outputs": [
        {
          "output_type": "display_data",
          "data": {
            "text/plain": [
              "<Figure size 640x480 with 1 Axes>"
            ],
            "image/png": "[encoded data removed]"
          },
          "metadata": {}
        }
      ]
    },
    {
      "cell_type": "markdown",
      "source": [
        "## [10] Distribution of Average Transaction Amount Categorization\n",
        "The categorization distribution of the number of average amount transactions will be visualized. This classification is accomplished by grouping the average amount transactions, as shown in the table below:\n",
        "\n",
        "![2.png](data:image/png;base64,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)\n",
        "\n",
        " After adding a new column for this category with the name **Average_Transaction_Amount_Group**, visualize it with a bar chart."
      ],
      "metadata": {
        "id": "fjoFhWLR9Efq"
      }
    },
    {
      "cell_type": "code",
      "source": [
        "# Group of average amount transaction\n",
        "def f(row):\n",
        "    if (row['Average_Transaction_Amount'] >= 100000 and row['Average_Transaction_Amount'] <= 250000):\n",
        "        val ='1. 100.000 - 250.000'\n",
        "    elif (row['Average_Transaction_Amount'] >= 250000 and row['Average_Transaction_Amount'] <= 500000):\n",
        "        val ='2. >250.000 - 500.000'\n",
        "    elif (row['Average_Transaction_Amount'] >= 500000 and row['Average_Transaction_Amount'] <= 750000):\n",
        "        val ='3. >500.000 - 750.000'\n",
        "    elif (row['Average_Transaction_Amount'] >= 750000 and row['Average_Transaction_Amount'] <= 1000000):\n",
        "        val ='4. >750.000 - 1.000.000'\n",
        "    elif (row['Average_Transaction_Amount'] >= 1000000 and row['Average_Transaction_Amount'] <= 2500000):\n",
        "        val ='5. 1.000.000 - 2.500.000'\n",
        "    elif (row['Average_Transaction_Amount'] >= 2500000 and row['Average_Transaction_Amount'] <= 5000000):\n",
        "        val ='6. 2.500.000 - 5.000.000'\n",
        "    elif (row['Average_Transaction_Amount'] >= 5000000 and row['Average_Transaction_Amount'] <= 10000000):\n",
        "        val ='7. 5.000.000 - 10.000.000'\n",
        "    else:\n",
        "        val ='8. >10.000.000'\n",
        "    return val\n",
        "# Add new column\n",
        "df['Average_Transaction_Amount_Group'] = df.apply(f, axis=1)\n",
        "\n",
        "df_year = df.groupby(['Average_Transaction_Amount_Group'])['Customer_ID'].count()\n",
        "df_year.plot(x='Average_Transaction_Amount_Group', y='Customer_ID', kind='bar', title='Customer Distribution by Average Transaction Amount Group')\n",
        "plt.xlabel('Average_Transaction_Amount_Group')\n",
        "plt.ylabel('Num_of_Customer')\n",
        "plt.tight_layout()\n",
        "plt.show()"
      ],
      "metadata": {
        "colab": {
          "base_uri": "https://localhost:8080/",
          "height": 487
        },
        "id": "MFouVPEq9wg9",
        "outputId": "e447cc70-7af6-4b55-f303-bb027025c3d1"
      },
      "execution_count": 36,
      "outputs": [
        {
          "output_type": "display_data",
          "data": {
            "text/plain": [
              "<Figure size 640x480 with 1 Axes>"
            ],
            "image/png": "[encoded data removed]"
          },
          "metadata": {}
        }
      ]
    },
    {
      "cell_type": "markdown",
      "source": [
        "# **MODELING & EVALUATION**"
      ],
      "metadata": {
        "id": "8S3mWjKXnw9Y"
      }
    },
    {
      "cell_type": "markdown",
      "source": [
        "Get insight from the model and evaluate the model that has been created and tested."
      ],
      "metadata": {
        "id": "OfRQXuDwn14p"
      }
    },
    {
      "cell_type": "markdown",
      "source": [
        "## [11] Feature Columns and Target for Modelling\n",
        "The feature columns are determined from the existing dataset at this stage. Columns **Average_Transaction_Amount**, **Count_Transaction**, and **Year_Diff** were chosen. The last column, however, does not yet exist. So, the **Year_Diff** column will be formed, and the dataset will be assigned with this feature column as the independent variable X.\n",
        "Assign the dataset for this target to the dependent variable Y, regardless of whether the consumer is churning or not (**is_churn** column)."
      ],
      "metadata": {
        "id": "hVknG8kRtpkD"
      }
    },
    {
      "cell_type": "code",
      "source": [
        "# Feature column: Year_Diff\n",
        "df['Year_Diff']=df['Year_Last_Transaction']-df['Year_First_Transaction']\n",
        "\n",
        "# List of feature column\n",
        "feature_columns = ['Average_Transaction_Amount', 'Count_Transaction', 'Year_Diff']\n",
        "\n",
        "# Features variable\n",
        "X = df[feature_columns]\n",
        "\n",
        "# Target variable\n",
        "y = df['is_churn']"
      ],
      "metadata": {
        "id": "ZSeKpNkQyZ1V"
      },
      "execution_count": 37,
      "outputs": []
    },
    {
      "cell_type": "markdown",
      "source": [
        "## [12] Split X and Y into Training and Testing Sections\n",
        "After assigning the independent variable X and the dependent variable Y, X and Y are separated into training and testing parts The testing part consists of 25% of the total number of data entries."
      ],
      "metadata": {
        "id": "lWVaGWI60-Pc"
      }
    },
    {
      "cell_type": "code",
      "source": [
        "df['Year_Diff']=df['Year_Last_Transaction']-df['Year_First_Transaction']\n",
        "feature_columns = ['Average_Transaction_Amount', 'Count_Transaction', 'Year_Diff']\n",
        "\n",
        "X = df[feature_columns]\n",
        "y = df['is_churn'].astype('int')\n",
        "\n",
        "from sklearn.model_selection import train_test_split\n",
        "\n",
        "X_train, X_test, y_train, y_test = train_test_split(X, y, test_size=0.25, random_state=0)"
      ],
      "metadata": {
        "id": "oJlnPAck1Ibw"
      },
      "execution_count": 38,
      "outputs": []
    },
    {
      "cell_type": "markdown",
      "source": [
        "## [13] Train, Predict and Evaluate\n",
        "The next step is to create a model using Logistic Regression, initialize the model, fit it, and then evaluate the model using a Confusion Matrix."
      ],
      "metadata": {
        "id": "HK9KzYpe16q_"
      }
    },
    {
      "cell_type": "code",
      "source": [
        "from sklearn.linear_model import LogisticRegression\n",
        "from sklearn.metrics import confusion_matrix\n",
        "\n",
        "# Initialize model logreg\n",
        "logreg = LogisticRegression()\n",
        "\n",
        "# Fit the model with data\n",
        "logreg.fit(X_train, y_train)\n",
        "\n",
        "# Predict model\n",
        "y_pred = logreg.predict(X_test)\n",
        "\n",
        "# Evaluate model use Confusion Matrix\n",
        "cnf_matrix = confusion_matrix(y_test, y_pred)\n",
        "print('Confusion Matrix:\\n', cnf_matrix)"
      ],
      "metadata": {
        "colab": {
          "base_uri": "https://localhost:8080/"
        },
        "id": "-9LSgbIM16_u",
        "outputId": "c16749b0-e5ec-46a2-a101-3674fa60bb95"
      },
      "execution_count": 39,
      "outputs": [
        {
          "output_type": "stream",
          "name": "stdout",
          "text": [
            "Confusion Matrix:\n",
            " [[    1  8330]\n",
            " [    3 16666]]\n"
          ]
        }
      ]
    },
    {
      "cell_type": "markdown",
      "source": [
        "## [14] Confusion Matrix Visualization\n",
        "The previously calculated Confusion Matrix can be visualized using a heatmap from Seaborn."
      ],
      "metadata": {
        "id": "tKeL4FPc-VY_"
      }
    },
    {
      "cell_type": "code",
      "source": [
        "# Import required modules\n",
        "import numpy as np\n",
        "import matplotlib.pyplot as plt\n",
        "import seaborn as sns\n",
        "plt.clf()\n",
        "\n",
        "# Name of classes\n",
        "class_names = [0, 1]\n",
        "fig, ax = plt.subplots()\n",
        "tick_marks = np.arange(len(class_names))\n",
        "plt.xticks(tick_marks, class_names)\n",
        "plt.yticks(tick_marks, class_names)\n",
        "\n",
        "# Create heatmap\n",
        "sns.heatmap(pd.DataFrame(cnf_matrix), annot=True, cmap='YlGnBu', fmt='g')\n",
        "ax.xaxis.set_label_position('top')\n",
        "plt.title('Confusion matrix', y=1.1)\n",
        "plt.ylabel('Actual')\n",
        "plt.xlabel('Predicted')\n",
        "plt.tight_layout()\n",
        "plt.show()"
      ],
      "metadata": {
        "colab": {
          "base_uri": "https://localhost:8080/",
          "height": 503
        },
        "id": "OB9BTZym-H9G",
        "outputId": "43edc134-a0ec-449c-9451-eb516005d4e2"
      },
      "execution_count": 40,
      "outputs": [
        {
          "output_type": "display_data",
          "data": {
            "text/plain": [
              "<Figure size 640x480 with 0 Axes>"
            ]
          },
          "metadata": {}
        },
        {
          "output_type": "display_data",
          "data": {
            "text/plain": [
              "<Figure size 640x480 with 2 Axes>"
            ],
            "image/png": "[encoded data removed]"
          },
          "metadata": {}
        }
      ]
    },
    {
      "cell_type": "markdown",
      "source": [
        "## [15] Accuracy, Precision, and Recall\n",
        "Calculate accuracy, precision, and recall values based on the actual target value and predicted target value."
      ],
      "metadata": {
        "id": "oQ_8kPBO_Bjh"
      }
    },
    {
      "cell_type": "code",
      "source": [
        "from sklearn.metrics import accuracy_score, precision_score, recall_score\n",
        "\n",
        "#Calculate Accuracy, Precision, and Recall\n",
        "print('Accuracy  :', accuracy_score(y_test, y_pred))\n",
        "print('Precision :', precision_score(y_test, y_pred, average='micro'))\n",
        "print('Recall    :', recall_score(y_test, y_pred, average='micro'))"
      ],
      "metadata": {
        "colab": {
          "base_uri": "https://localhost:8080/"
        },
        "id": "noGM8gew_FXe",
        "outputId": "284f730e-42ac-4637-be84-f307cf12cfa4"
      },
      "execution_count": 42,
      "outputs": [
        {
          "output_type": "stream",
          "name": "stdout",
          "text": [
            "Accuracy  : 0.66668\n",
            "Precision : 0.66668\n",
            "Recall    : 0.66668\n"
          ]
        }
      ]
    },
    {
      "cell_type": "markdown",
      "source": [
        "# **CONCLUSION**"
      ],
      "metadata": {
        "id": "Id0Hgvho0yPk"
      }
    },
    {
      "cell_type": "markdown",
      "source": [
        "Based on modeling and evaluation, as well as the results of the confusion matrix above, it is possible to conclude that the model developed is quite good and capable of solving existing business problems."
      ],
      "metadata": {
        "id": "ErbUL2Ra7Ycq"
      }
    }
  ]
}