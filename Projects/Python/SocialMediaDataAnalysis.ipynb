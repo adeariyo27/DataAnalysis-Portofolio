{
  "cells": [
    {
      "cell_type": "markdown",
      "metadata": {
        "id": "ycHqTZCe-CkZ"
      },
      "source": [
        "# **Clean & Analyze Social Media**"
      ]
    },
    {
      "cell_type": "markdown",
      "metadata": {
        "id": "c8pkaspj-Ckd"
      },
      "source": [
        "## **Introduction**\n",
        "\n",
        "Social media has become a ubiquitous part of modern life, with platforms such as Instagram, Twitter, and Facebook serving as essential communication channels. Social media data sets are vast and complex, making analysis a challenging task for businesses and researchers alike. In this project, we explore a simulated social media, for example Tweets, data set to understand trends in likes across different categories."
      ]
    },
    {
      "cell_type": "markdown",
      "source": [
        "## **Project Scope**\n",
        "\n",
        "The objective of this project is to analyze tweets (or other social media data) and gain insights into user engagement. We will explore the data set using visualization techniques to understand the distribution of likes across different categories. Finally, we will analyze the data to draw conclusions about the most popular categories and the overall engagement on the platform."
      ],
      "metadata": {
        "id": "vc4NET8HClIz"
      }
    },
    {
      "cell_type": "markdown",
      "source": [
        "### Step 1: Importing Required Libraries\n",
        "\n",
        "As the name suggests, the first step is to import all the necessary libraries that will be used in the project. In this case, we need pandas, numpy, matplotlib, seaborn, and random libraries.\n",
        "\n",
        "Pandas is a library used for data manipulation and analysis. Numpy is a library used for numerical computations. Matplotlib is a library used for data visualization. Seaborn is a library used for statistical data visualization. Random is a library used to generate random numbers."
      ],
      "metadata": {
        "id": "z6llkVNeCqXt"
      }
    },
    {
      "cell_type": "code",
      "execution_count": 41,
      "metadata": {
        "id": "HEZWH9T0-Ckf"
      },
      "outputs": [],
      "source": [
        "import numpy as np\n",
        "import pandas as pd\n",
        "import matplotlib.pyplot as plt\n",
        "import seaborn as sns\n",
        "import random"
      ]
    },
    {
      "cell_type": "markdown",
      "source": [
        "### Step 2: Generate Random Data for the Social Media Data\n",
        "\n",
        "To conduct a social media experiment, define categories such as 'Food,' 'Travel,' 'Fashion,' 'Fitness,' 'Music,' 'Culture,' 'Family,' and 'Health.' Generate a Python data dictionary with 'Date,' 'Category,' and 'Likes' fields. Utilize pandas date range for pseudo-random dates, random module's choice for category selection, and numpy's random for generating random integers. Ensure data alignment by making 'Date' n periods long, 'Category' a list of random choices, and 'Likes' random integers ranging from 0 to 10000, all with sizes equal to ***n***."
      ],
      "metadata": {
        "id": "r89X1wfKCwGW"
      }
    },
    {
      "cell_type": "code",
      "execution_count": 42,
      "metadata": {
        "id": "TgW0R5hP-Ckh"
      },
      "outputs": [],
      "source": [
        "# Define the list of categories\n",
        "categories = ['Food', 'Travel', 'Fashion', 'Fitness', 'Music', 'Culture', 'Family', 'Health']"
      ]
    },
    {
      "cell_type": "code",
      "execution_count": 43,
      "metadata": {
        "id": "o2UBnS15B4aC"
      },
      "outputs": [],
      "source": [
        "# Set the number of periods (n)\n",
        "n = 10000"
      ]
    },
    {
      "cell_type": "code",
      "execution_count": 44,
      "metadata": {
        "id": "N7k_8KQqB4aD"
      },
      "outputs": [],
      "source": [
        "# Generate the random tweet data\n",
        "data = {\n",
        "    'Date': pd.date_range(start='2021-01-01', end='2023-12-31', periods=n),\n",
        "    'Category': [random.choice(categories) for _ in range(n)],\n",
        "    'Likes': np.random.randint(0, 10000, size=n)\n",
        "}"
      ]
    },
    {
      "cell_type": "code",
      "execution_count": 45,
      "metadata": {
        "id": "cIsCpDLpB4aE"
      },
      "outputs": [],
      "source": [
        "# Create a DataFrame from the generated data\n",
        "df = pd.DataFrame(data)"
      ]
    },
    {
      "cell_type": "code",
      "execution_count": 46,
      "metadata": {
        "colab": {
          "base_uri": "https://localhost:8080/"
        },
        "id": "6HZ8b2HQB4aF",
        "outputId": "0e5d5a81-cbc0-44aa-f6da-26f886089e8a"
      },
      "outputs": [
        {
          "output_type": "stream",
          "name": "stdout",
          "text": [
            "                              Date Category  Likes\n",
            "0    2021-01-01 00:00:00.000000000    Music   7061\n",
            "1    2021-01-01 02:37:33.105310531   Health   4115\n",
            "2    2021-01-01 05:15:06.210621062  Fashion   9465\n",
            "3    2021-01-01 07:52:39.315931593  Fitness   7237\n",
            "4    2021-01-01 10:30:12.421242124  Fitness   8025\n",
            "...                            ...      ...    ...\n",
            "9995 2023-12-30 13:29:47.578757872  Fitness   6584\n",
            "9996 2023-12-30 16:07:20.684068400  Culture   6964\n",
            "9997 2023-12-30 18:44:53.789378928  Fitness   1264\n",
            "9998 2023-12-30 21:22:26.894689472   Health   8861\n",
            "9999 2023-12-31 00:00:00.000000000  Fitness    654\n",
            "\n",
            "[10000 rows x 3 columns]\n"
          ]
        }
      ],
      "source": [
        "# Display the DataFrame\n",
        "print(df)"
      ]
    },
    {
      "cell_type": "markdown",
      "source": [
        "### Step 3: Load the Data into a Pandas DataFrame and Explore the Data\n",
        "\n",
        "To initiate our data analysis, seamlessly integrate the randomly generated data into a pandas dataframe, a fundamental structure for handling tabular data in Python. First, employ the DataFrame method from the pandas library, passing the generated data as its input. Subsequently, showcase key insights by presenting the dataframe head, providing insightful information on the dataframe, and furnishing a concise statistical description. Conclude the initial exploration by quantifying the occurrence of each 'Category' element through a count analysis."
      ],
      "metadata": {
        "id": "gsHJeLGyCuyH"
      }
    },
    {
      "cell_type": "code",
      "source": [
        "# Print the DataFrame head\n",
        "print(\"DataFrame Head:\")\n",
        "print(df.head())"
      ],
      "metadata": {
        "colab": {
          "base_uri": "https://localhost:8080/"
        },
        "id": "j70W1acJEuCS",
        "outputId": "5a7ee9ed-b637-4c26-a9b7-5ae6ee81b25d"
      },
      "execution_count": 47,
      "outputs": [
        {
          "output_type": "stream",
          "name": "stdout",
          "text": [
            "DataFrame Head:\n",
            "                           Date Category  Likes\n",
            "0 2021-01-01 00:00:00.000000000    Music   7061\n",
            "1 2021-01-01 02:37:33.105310531   Health   4115\n",
            "2 2021-01-01 05:15:06.210621062  Fashion   9465\n",
            "3 2021-01-01 07:52:39.315931593  Fitness   7237\n",
            "4 2021-01-01 10:30:12.421242124  Fitness   8025\n"
          ]
        }
      ]
    },
    {
      "cell_type": "code",
      "source": [
        "# Print the DataFrame information\n",
        "print(\"\\nDataFrame Information:\")\n",
        "print(df.info())"
      ],
      "metadata": {
        "colab": {
          "base_uri": "https://localhost:8080/"
        },
        "id": "q-cm_Dk-ExzM",
        "outputId": "67905783-007a-4916-a3b4-13a1d5a204ba"
      },
      "execution_count": 48,
      "outputs": [
        {
          "output_type": "stream",
          "name": "stdout",
          "text": [
            "\n",
            "DataFrame Information:\n",
            "<class 'pandas.core.frame.DataFrame'>\n",
            "RangeIndex: 10000 entries, 0 to 9999\n",
            "Data columns (total 3 columns):\n",
            " #   Column    Non-Null Count  Dtype         \n",
            "---  ------    --------------  -----         \n",
            " 0   Date      10000 non-null  datetime64[ns]\n",
            " 1   Category  10000 non-null  object        \n",
            " 2   Likes     10000 non-null  int64         \n",
            "dtypes: datetime64[ns](1), int64(1), object(1)\n",
            "memory usage: 234.5+ KB\n",
            "None\n"
          ]
        }
      ]
    },
    {
      "cell_type": "code",
      "source": [
        "# Print the DataFrame description\n",
        "print(\"\\nDataFrame Description:\")\n",
        "print(df.describe())"
      ],
      "metadata": {
        "colab": {
          "base_uri": "https://localhost:8080/"
        },
        "id": "11zh4FDkE8uj",
        "outputId": "525fa0b8-7193-4f9d-a3f4-a8afdc6ea9b8"
      },
      "execution_count": 49,
      "outputs": [
        {
          "output_type": "stream",
          "name": "stdout",
          "text": [
            "\n",
            "DataFrame Description:\n",
            "              Likes\n",
            "count  10000.000000\n",
            "mean    4970.918500\n",
            "std     2892.711107\n",
            "min        0.000000\n",
            "25%     2422.000000\n",
            "50%     4971.000000\n",
            "75%     7465.500000\n",
            "max     9999.000000\n"
          ]
        }
      ]
    },
    {
      "cell_type": "code",
      "source": [
        "# Print the count of each 'Category' element\n",
        "print(\"\\nCount of each 'Category' element:\")\n",
        "print(df['Category'].value_counts())"
      ],
      "metadata": {
        "colab": {
          "base_uri": "https://localhost:8080/"
        },
        "id": "Hqi-sNlKFFZT",
        "outputId": "3f39f439-3871-420d-8265-1dcbdec4af0d"
      },
      "execution_count": 50,
      "outputs": [
        {
          "output_type": "stream",
          "name": "stdout",
          "text": [
            "\n",
            "Count of each 'Category' element:\n",
            "Health     1324\n",
            "Family     1270\n",
            "Travel     1270\n",
            "Music      1266\n",
            "Culture    1243\n",
            "Fitness    1230\n",
            "Food       1206\n",
            "Fashion    1191\n",
            "Name: Category, dtype: int64\n"
          ]
        }
      ]
    },
    {
      "cell_type": "markdown",
      "source": [
        "### Step 4: Clean the Data\n",
        "\n",
        "In the data cleaning phase, the first step involves eliminating null values using the pandas dataframe drop method. Then, duplicate entries are removed for data accuracy. To enhance data interpretation, convert the 'Date' field to a datetime format using the pandas object. Finally, optimize the 'Likes' data by converting it to an integer type for statistical analysis."
      ],
      "metadata": {
        "id": "c_1_UxEE44Qb"
      }
    },
    {
      "cell_type": "code",
      "source": [
        "# Clean the data\n",
        "# Remove null data\n",
        "df = df.dropna()"
      ],
      "metadata": {
        "id": "Mj-gNdsqFeJc"
      },
      "execution_count": 51,
      "outputs": []
    },
    {
      "cell_type": "code",
      "source": [
        "# Remove duplicate data\n",
        "df = df.drop_duplicates()"
      ],
      "metadata": {
        "id": "djsepcCh5ZtT"
      },
      "execution_count": 52,
      "outputs": []
    },
    {
      "cell_type": "code",
      "source": [
        "# Convert 'Date' field to datetime format\n",
        "df['Date'] = pd.to_datetime(df['Date'])"
      ],
      "metadata": {
        "id": "tld6Qos45bxr"
      },
      "execution_count": 53,
      "outputs": []
    },
    {
      "cell_type": "code",
      "source": [
        "# Convert 'Likes' data to integer\n",
        "df['Likes'] = df['Likes'].astype(int)"
      ],
      "metadata": {
        "id": "jEcYAYQU5eNC"
      },
      "execution_count": 54,
      "outputs": []
    },
    {
      "cell_type": "code",
      "source": [
        "# Print the cleaned DataFrame head\n",
        "print(\"\\nCleaned DataFrame Head:\")\n",
        "print(df.head())"
      ],
      "metadata": {
        "colab": {
          "base_uri": "https://localhost:8080/"
        },
        "id": "sjLLcrPE6fsT",
        "outputId": "637a5aba-9a08-4735-bee9-789b907539d8"
      },
      "execution_count": 55,
      "outputs": [
        {
          "output_type": "stream",
          "name": "stdout",
          "text": [
            "\n",
            "Cleaned DataFrame Head:\n",
            "                           Date Category  Likes\n",
            "0 2021-01-01 00:00:00.000000000    Music   7061\n",
            "1 2021-01-01 02:37:33.105310531   Health   4115\n",
            "2 2021-01-01 05:15:06.210621062  Fashion   9465\n",
            "3 2021-01-01 07:52:39.315931593  Fitness   7237\n",
            "4 2021-01-01 10:30:12.421242124  Fitness   8025\n"
          ]
        }
      ]
    },
    {
      "cell_type": "markdown",
      "source": [
        "### Step 5: Visualize and Analyze the Data\n",
        "\n",
        "To gain insights from the dataset, employ data visualization and statistical analysis. Initially, leverage the seaborn module to generate a histogram depicting the distribution of 'Likes.' Employ the histplot method on the 'Likes' column in the DataFrame, and utilize Matplotlib.pyplot's show method to display the histogram. Following this, construct a boxplot with 'Category' on the x-axis and 'Likes' on the y-axis, showcasing variations in 'Likes' across different categories. Proceed to statistical measures, such as the mean 'Likes' across all categories, and utilize the groupby method to unveil the mean 'Likes' for each specific category."
      ],
      "metadata": {
        "id": "ZzggwLMO8rpx"
      }
    },
    {
      "cell_type": "code",
      "source": [
        "# Visualize the data\n",
        "# Histogram plot of Likes\n",
        "sns.histplot(df['Likes'])\n",
        "plt.title('Histogram of Likes')\n",
        "plt.xlabel('Likes')\n",
        "plt.ylabel('Frequency')\n",
        "plt.show()"
      ],
      "metadata": {
        "colab": {
          "base_uri": "https://localhost:8080/",
          "height": 472
        },
        "id": "ygjv7E4W6kML",
        "outputId": "1a3c04ca-1055-4aa5-b585-18c420e1938c"
      },
      "execution_count": 57,
      "outputs": [
        {
          "output_type": "display_data",
          "data": {
            "text/plain": [
              "<Figure size 640x480 with 1 Axes>"
            ],
            "image/png": "[encoded data removed]"
          },
          "metadata": {}
        }
      ]
    },
    {
      "cell_type": "code",
      "source": [
        "# Boxplot with Category on x-axis and Likes on y-axis\n",
        "sns.boxplot(x='Category', y='Likes', data=df)\n",
        "plt.title('Boxplot of Likes by Category')\n",
        "plt.xlabel('Category')\n",
        "plt.ylabel('Likes')\n",
        "plt.xticks(rotation=45)\n",
        "plt.show()"
      ],
      "metadata": {
        "colab": {
          "base_uri": "https://localhost:8080/",
          "height": 505
        },
        "id": "6zraimFT6sJL",
        "outputId": "8219da50-ab45-439c-bc87-b5491ebf4e4c"
      },
      "execution_count": 58,
      "outputs": [
        {
          "output_type": "display_data",
          "data": {
            "text/plain": [
              "<Figure size 640x480 with 1 Axes>"
            ],
            "image/png": "[encoded data removed]"
          },
          "metadata": {}
        }
      ]
    },
    {
      "cell_type": "code",
      "source": [
        "# Perform statistics on the data\n",
        "# Print the mean of the 'Likes' category\n",
        "print(\"\\nMean Likes:\", df['Likes'].mean())"
      ],
      "metadata": {
        "colab": {
          "base_uri": "https://localhost:8080/"
        },
        "id": "L0E0ureR9uO9",
        "outputId": "d0ab9b6b-5f0c-4078-edf9-c1c8f42cf52e"
      },
      "execution_count": 59,
      "outputs": [
        {
          "output_type": "stream",
          "name": "stdout",
          "text": [
            "\n",
            "Mean Likes: 4970.9185\n"
          ]
        }
      ]
    },
    {
      "cell_type": "code",
      "source": [
        "# Print the mean of each Category 'Likes'\n",
        "category_likes_mean = df.groupby('Category')['Likes'].mean()\n",
        "print(\"\\nMean Likes by Category:\")\n",
        "print(category_likes_mean)"
      ],
      "metadata": {
        "colab": {
          "base_uri": "https://localhost:8080/"
        },
        "id": "ZFHuxild9u17",
        "outputId": "6bb26671-b189-495b-872c-093018b991f8"
      },
      "execution_count": 60,
      "outputs": [
        {
          "output_type": "stream",
          "name": "stdout",
          "text": [
            "\n",
            "Mean Likes by Category:\n",
            "Category\n",
            "Culture    4940.888978\n",
            "Family     4983.771654\n",
            "Fashion    5130.836272\n",
            "Fitness    5005.326829\n",
            "Food       4893.662521\n",
            "Health     4985.605740\n",
            "Music      4966.234597\n",
            "Travel     4866.881890\n",
            "Name: Likes, dtype: float64\n"
          ]
        }
      ]
    },
    {
      "cell_type": "markdown",
      "source": [
        "## **Conclusion**\n",
        "\n",
        "In this social media experiment, we generated a dataset comprising 10000 tweets with categories such as Food, Travel, Fashion, Fitness, Music, Culture, Family, and Health. After cleaning the data to remove null values and duplicates, we proceeded with visualizing and analyzing the dataset.\n",
        "\n",
        "The histogram plot of 'Likes' reveals a distribution where the majority of tweets receive likes in the range of 0 to 5000, with a peak around 5100 likes. This suggests that most tweets in our dataset fall within a moderate range of popularity.\n",
        "\n",
        "The boxplot further illustrates the distribution of likes across different categories. Notably, the 'Fashion' category tends to receive higher likes on average compared to other categories, with a mean of 5130.84 likes. 'Family' and 'Health' categories also exhibit above-average popularity, with means of 4983.77 and 4985.61 likes, respectively. Conversely, the 'Travel' category appears to have a slightly lower average likes at 4866.88.\n",
        "\n",
        "Overall, the mean likes across all 10,000 tweets in the dataset is approximately 4970.92, indicating a moderate level of engagement. These insights can guide content creators and stakeholders in understanding the relative popularity of different categories, allowing for more informed decisions in content strategy and audience engagement."
      ],
      "metadata": {
        "id": "eAUGJ9E__SUK"
      }
    }
  ],
  "metadata": {
    "colab": {
      "provenance": []
    },
    "kernelspec": {
      "display_name": "Python 3",
      "language": "python",
      "name": "python3"
    },
    "language_info": {
      "codemirror_mode": {
        "name": "ipython",
        "version": 3
      },
      "file_extension": ".py",
      "mimetype": "text/x-python",
      "name": "python",
      "nbconvert_exporter": "python",
      "pygments_lexer": "ipython3",
      "version": "3.7.6"
    }
  },
  "nbformat": 4,
  "nbformat_minor": 0
}