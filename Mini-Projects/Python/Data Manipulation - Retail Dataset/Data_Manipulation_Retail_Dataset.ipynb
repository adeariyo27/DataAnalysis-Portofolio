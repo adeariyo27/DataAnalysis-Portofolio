{
  "nbformat": 4,
  "nbformat_minor": 0,
  "metadata": {
    "colab": {
      "provenance": []
    },
    "kernelspec": {
      "name": "python3",
      "display_name": "Python 3"
    },
    "language_info": {
      "name": "python"
    }
  },
  "cells": [
    {
      "cell_type": "markdown",
      "source": [
        "#Retail Dataset\n",
        "From the following dataset: *https://storage.googleapis.com/dqlab-dataset/retail_raw_test.csv*, determine:\n",
        "*   Read dataset.\n",
        "*   The data type is changed to the correct type:\n",
        " *   **customer_id** from string to int64\n",
        " *   **quantity** from string to int64\n",
        " *   **item_price** from string to int64\n",
        "*   Transform **product_value** so that it has a uniform shape with 'PXXXX' format, then assign it to a new column **product_id**. If there is 'NaN' or 'NULL' value, then replace it with 'unknown'. Also, drop the **product_value** column.\n",
        "*   Transform **order_date** into value in the 'YYYY-mm-dd' format.\n",
        "*   Check for missing data from each column and then fill in the *missing values*\n",
        " *   In **brand** with 'no_brand'\n",
        " *   In **city** and **province** with 'unknown'\n",
        "*   Create column **city/province** from combined **city** and **province**\n",
        "*   Create index based on **city_provice**, **order_date**, **customer_id**, **order_id**, **product_id**\n",
        "*   Create a **total_price** column as a result of multiplying **quantity** by **item_price**\n",
        "*   Slice data for Jan-2019 only\n",
        "\n",
        "    \n",
        "\n",
        "\n"
      ],
      "metadata": {
        "id": "xfbls_IvRCfz"
      }
    },
    {
      "cell_type": "code",
      "execution_count": 11,
      "metadata": {
        "id": "j-1S50LsQkY7"
      },
      "outputs": [],
      "source": [
        "import pandas as pd"
      ]
    },
    {
      "cell_type": "code",
      "source": [
        "print(\"[1] READ DATASET\")\n",
        "df = pd.read_csv('https://storage.googleapis.com/dqlab-dataset/retail_raw_test.csv', low_memory=False)\n",
        "print(\"    Dataset:\\n\", df.head())\n",
        "print(\"    Info:\\n\", df.info())"
      ],
      "metadata": {
        "colab": {
          "base_uri": "https://localhost:8080/"
        },
        "id": "2q8k4HpWhN2H",
        "outputId": "6a058961-9e5b-4d79-a4da-01927a6b8d48"
      },
      "execution_count": 12,
      "outputs": [
        {
          "output_type": "stream",
          "name": "stdout",
          "text": [
            "[1] READ DATASET\n",
            "    Dataset:\n",
            "    order_id    order_date customer_id           city     province    brand  \\\n",
            "0   1730350  Dec 11, 2019      '13447      Surakarta  Jawa Tengah  BRAND_F   \n",
            "1   1677490  Jul 31, 2019          '0            NaN          NaN  BRAND_F   \n",
            "2   1704211  Oct 18, 2019      '16128  Jakarta Pusat  DKI Jakarta  BRAND_H   \n",
            "3   1679695  Aug 07, 2019      '16225     Yogyakarta   Yogyakarta  BRAND_H   \n",
            "4   1679080  Aug 05, 2019          '0            NaN          NaN  BRAND_E   \n",
            "\n",
            "  quantity item_price  product_value  \n",
            "0      '24    '113000         1374.0  \n",
            "1       '1   '1164000         1370.0  \n",
            "2      '12    '747000         1679.0  \n",
            "3       '6    '590000         1708.0  \n",
            "4       '2    '740000         1201.0  \n",
            "<class 'pandas.core.frame.DataFrame'>\n",
            "RangeIndex: 5000 entries, 0 to 4999\n",
            "Data columns (total 9 columns):\n",
            " #   Column         Non-Null Count  Dtype  \n",
            "---  ------         --------------  -----  \n",
            " 0   order_id       5000 non-null   int64  \n",
            " 1   order_date     5000 non-null   object \n",
            " 2   customer_id    5000 non-null   object \n",
            " 3   city           3802 non-null   object \n",
            " 4   province       3802 non-null   object \n",
            " 5   brand          4995 non-null   object \n",
            " 6   quantity       5000 non-null   object \n",
            " 7   item_price     5000 non-null   object \n",
            " 8   product_value  4995 non-null   float64\n",
            "dtypes: float64(1), int64(1), object(7)\n",
            "memory usage: 351.7+ KB\n",
            "    Info:\n",
            " None\n"
          ]
        }
      ]
    },
    {
      "cell_type": "code",
      "source": [
        "print(\"\\n[2] CHANGE DATA TYPE\")\n",
        "df[\"customer_id\"] = df[\"customer_id\"].apply(lambda x: x.split(\"'\")[1]).astype(\"int64\")\n",
        "df[\"quantity\"] = df[\"quantity\"].apply(lambda x: x.split(\"'\")[1]).astype(\"int64\")\n",
        "df[\"item_price\"] = df[\"item_price\"].apply(lambda x: x.split(\"'\")[1]).astype(\"int64\")\n",
        "print(\"    Tipe data:\\n\", df.dtypes)"
      ],
      "metadata": {
        "colab": {
          "base_uri": "https://localhost:8080/"
        },
        "id": "sxdjrpr4ig5D",
        "outputId": "cd6628ec-60f5-47fd-eb35-730347444f48"
      },
      "execution_count": 13,
      "outputs": [
        {
          "output_type": "stream",
          "name": "stdout",
          "text": [
            "\n",
            "[2] CHANGE DATA TYPE\n",
            "    Tipe data:\n",
            " order_id           int64\n",
            "order_date        object\n",
            "customer_id        int64\n",
            "city              object\n",
            "province          object\n",
            "brand             object\n",
            "quantity           int64\n",
            "item_price         int64\n",
            "product_value    float64\n",
            "dtype: object\n"
          ]
        }
      ]
    },
    {
      "cell_type": "code",
      "source": [
        "print(\"\\n[3] TRANSFORM product_value INTO product_id\")\n",
        "import math\n",
        "def impute_product_value(val):\n",
        "    if math.isnan(val):\n",
        "        return 'unknown'\n",
        "    else:\n",
        "        return 'P' + '{:0>4}'.format(str(val).split('.')[0])\n",
        "\n",
        "df[\"product_id\"] = df[\"product_value\"].apply(lambda x: impute_product_value(x))\n",
        "df.drop([\"product_value\"], axis=1, inplace=True)\n",
        "print(df.head())"
      ],
      "metadata": {
        "colab": {
          "base_uri": "https://localhost:8080/"
        },
        "id": "-OVukY-hi1Nz",
        "outputId": "1c4ab534-fe18-4e14-a9b6-ffd6f2531732"
      },
      "execution_count": 14,
      "outputs": [
        {
          "output_type": "stream",
          "name": "stdout",
          "text": [
            "\n",
            "[3] TRANSFORM product_value INTO product_id\n",
            "   order_id    order_date  customer_id           city     province    brand  \\\n",
            "0   1730350  Dec 11, 2019        13447      Surakarta  Jawa Tengah  BRAND_F   \n",
            "1   1677490  Jul 31, 2019            0            NaN          NaN  BRAND_F   \n",
            "2   1704211  Oct 18, 2019        16128  Jakarta Pusat  DKI Jakarta  BRAND_H   \n",
            "3   1679695  Aug 07, 2019        16225     Yogyakarta   Yogyakarta  BRAND_H   \n",
            "4   1679080  Aug 05, 2019            0            NaN          NaN  BRAND_E   \n",
            "\n",
            "   quantity  item_price product_id  \n",
            "0        24      113000      P1374  \n",
            "1         1     1164000      P1370  \n",
            "2        12      747000      P1679  \n",
            "3         6      590000      P1708  \n",
            "4         2      740000      P1201  \n"
          ]
        }
      ]
    },
    {
      "cell_type": "code",
      "source": [
        "print(\"\\n[4] TRANSFORM order_date INTO 'YYYY-mm-dd' FORMAT\")\n",
        "months_dict = {\n",
        "   \"Jan\":\"01\",\n",
        "   \"Feb\":\"02\",\n",
        "   \"Mar\":\"03\",\n",
        "   \"Apr\":\"04\",\n",
        "   \"May\":\"05\",\n",
        "   \"Jun\":\"06\",\n",
        "   \"Jul\":\"07\",\n",
        "   \"Aug\":\"08\",\n",
        "   \"Sep\":\"09\",\n",
        "   \"Oct\":\"10\",\n",
        "   \"Nov\":\"11\",\n",
        "   \"Dec\":\"12\"\n",
        "}\n",
        "df[\"order_date\"] = pd.to_datetime(df[\"order_date\"].apply(lambda x: str(x)[-4:] + \"-\" + months_dict[str(x)[:3]] + \"-\" + str(x)[4:7]))\n",
        "print(\"    Tipe data:\\n\", df.dtypes)"
      ],
      "metadata": {
        "colab": {
          "base_uri": "https://localhost:8080/"
        },
        "id": "IjU1iQORjLpf",
        "outputId": "ca6562e7-13b4-48ee-9a51-28f907b105b8"
      },
      "execution_count": 15,
      "outputs": [
        {
          "output_type": "stream",
          "name": "stdout",
          "text": [
            "\n",
            "[4] TRANSFORM order_date INTO 'YYYY-mm-dd' FORMAT\n",
            "    Tipe data:\n",
            " order_id                int64\n",
            "order_date     datetime64[ns]\n",
            "customer_id             int64\n",
            "city                   object\n",
            "province               object\n",
            "brand                  object\n",
            "quantity                int64\n",
            "item_price              int64\n",
            "product_id             object\n",
            "dtype: object\n"
          ]
        }
      ]
    },
    {
      "cell_type": "code",
      "source": [
        "print(\"\\n[5] HANDLING MISSING VALUE\")\n",
        "df[[\"city\",\"province\"]] = df[[\"city\",\"province\"]].fillna(\"unknown\")\n",
        "df[\"brand\"] = df[\"brand\"].fillna(\"no_brand\")\n",
        "print(\"    Info:\\n\", df.info())"
      ],
      "metadata": {
        "colab": {
          "base_uri": "https://localhost:8080/"
        },
        "id": "3CczIwfkjm62",
        "outputId": "c8971f7b-e040-4cd9-d720-fccc0e0aa9fd"
      },
      "execution_count": 16,
      "outputs": [
        {
          "output_type": "stream",
          "name": "stdout",
          "text": [
            "\n",
            "[5] HANDLING MISSING VALUE\n",
            "<class 'pandas.core.frame.DataFrame'>\n",
            "RangeIndex: 5000 entries, 0 to 4999\n",
            "Data columns (total 9 columns):\n",
            " #   Column       Non-Null Count  Dtype         \n",
            "---  ------       --------------  -----         \n",
            " 0   order_id     5000 non-null   int64         \n",
            " 1   order_date   5000 non-null   datetime64[ns]\n",
            " 2   customer_id  5000 non-null   int64         \n",
            " 3   city         5000 non-null   object        \n",
            " 4   province     5000 non-null   object        \n",
            " 5   brand        5000 non-null   object        \n",
            " 6   quantity     5000 non-null   int64         \n",
            " 7   item_price   5000 non-null   int64         \n",
            " 8   product_id   5000 non-null   object        \n",
            "dtypes: datetime64[ns](1), int64(4), object(4)\n",
            "memory usage: 351.7+ KB\n",
            "    Info:\n",
            " None\n"
          ]
        }
      ]
    },
    {
      "cell_type": "code",
      "source": [
        "print(\"\\n[6] CREATE NEW COLUMN city/province\")\n",
        "df[\"city/province\"] = df[\"city\"] + \"/\" + df[\"province\"]\n",
        "df.drop([\"city\",\"province\"], axis=1, inplace=True)\n",
        "print(df.head())\n"
      ],
      "metadata": {
        "colab": {
          "base_uri": "https://localhost:8080/"
        },
        "id": "xZ8fjienkQXH",
        "outputId": "b036669a-a777-475c-d0a2-7d2a97094e34"
      },
      "execution_count": 17,
      "outputs": [
        {
          "output_type": "stream",
          "name": "stdout",
          "text": [
            "\n",
            "[6] CREATE NEW COLUMN city/province\n",
            "   order_id order_date  customer_id    brand  quantity  item_price product_id  \\\n",
            "0   1730350 2019-12-11        13447  BRAND_F        24      113000      P1374   \n",
            "1   1677490 2019-07-31            0  BRAND_F         1     1164000      P1370   \n",
            "2   1704211 2019-10-18        16128  BRAND_H        12      747000      P1679   \n",
            "3   1679695 2019-08-07        16225  BRAND_H         6      590000      P1708   \n",
            "4   1679080 2019-08-05            0  BRAND_E         2      740000      P1201   \n",
            "\n",
            "               city/province  \n",
            "0      Surakarta/Jawa Tengah  \n",
            "1            unknown/unknown  \n",
            "2  Jakarta Pusat/DKI Jakarta  \n",
            "3      Yogyakarta/Yogyakarta  \n",
            "4            unknown/unknown  \n"
          ]
        }
      ]
    },
    {
      "cell_type": "code",
      "source": [
        "print(\"\\n[7] CREATE HIERACHICAL INDEX\")\n",
        "df = df.set_index([\"city/province\",\"order_date\",\"customer_id\",\"order_id\",\"product_id\"])\n",
        "df = df.sort_index()\n",
        "print(df.head())"
      ],
      "metadata": {
        "colab": {
          "base_uri": "https://localhost:8080/"
        },
        "id": "bpXyZ9nWk9SF",
        "outputId": "908bc3ab-f798-4d88-a03f-61551794d1b0"
      },
      "execution_count": 18,
      "outputs": [
        {
          "output_type": "stream",
          "name": "stdout",
          "text": [
            "\n",
            "[7] CREATE HIERACHICAL INDEX\n",
            "                                                                     brand  \\\n",
            "city/province          order_date customer_id order_id product_id            \n",
            "Banda Aceh/Aceh        2019-04-17 12818       1642480  P1936       BRAND_K   \n",
            "                       2019-11-12 12360       1715116  P0758       BRAND_C   \n",
            "                                                       P3042       BRAND_R   \n",
            "                       2019-12-09 12374       1729036  P1660       BRAND_G   \n",
            "Bandar Lampung/Lampung 2019-01-15 12515       1619257  P0628       BRAND_C   \n",
            "\n",
            "                                                                   quantity  \\\n",
            "city/province          order_date customer_id order_id product_id             \n",
            "Banda Aceh/Aceh        2019-04-17 12818       1642480  P1936             24   \n",
            "                       2019-11-12 12360       1715116  P0758              8   \n",
            "                                                       P3042             12   \n",
            "                       2019-12-09 12374       1729036  P1660              4   \n",
            "Bandar Lampung/Lampung 2019-01-15 12515       1619257  P0628             12   \n",
            "\n",
            "                                                                   item_price  \n",
            "city/province          order_date customer_id order_id product_id              \n",
            "Banda Aceh/Aceh        2019-04-17 12818       1642480  P1936           450000  \n",
            "                       2019-11-12 12360       1715116  P0758           695000  \n",
            "                                                       P3042           310000  \n",
            "                       2019-12-09 12374       1729036  P1660          2795000  \n",
            "Bandar Lampung/Lampung 2019-01-15 12515       1619257  P0628           695000  \n"
          ]
        }
      ]
    },
    {
      "cell_type": "code",
      "source": [
        "print(\"\\n[8] CREATE NEW COLUMN total_price\")\n",
        "df[\"total_price\"] = df[\"quantity\"] * df[\"item_price\"]\n",
        "print(df.head())"
      ],
      "metadata": {
        "colab": {
          "base_uri": "https://localhost:8080/"
        },
        "id": "t8iKKR0ilV9u",
        "outputId": "22f919d7-a7f0-48a5-d7ec-1ad17687d7b2"
      },
      "execution_count": 22,
      "outputs": [
        {
          "output_type": "stream",
          "name": "stdout",
          "text": [
            "\n",
            "[8] CREATE NEW COLUMN total_price\n",
            "                                                                     brand  \\\n",
            "city/province          order_date customer_id order_id product_id            \n",
            "Banda Aceh/Aceh        2019-04-17 12818       1642480  P1936       BRAND_K   \n",
            "                       2019-11-12 12360       1715116  P0758       BRAND_C   \n",
            "                                                       P3042       BRAND_R   \n",
            "                       2019-12-09 12374       1729036  P1660       BRAND_G   \n",
            "Bandar Lampung/Lampung 2019-01-15 12515       1619257  P0628       BRAND_C   \n",
            "\n",
            "                                                                   quantity  \\\n",
            "city/province          order_date customer_id order_id product_id             \n",
            "Banda Aceh/Aceh        2019-04-17 12818       1642480  P1936             24   \n",
            "                       2019-11-12 12360       1715116  P0758              8   \n",
            "                                                       P3042             12   \n",
            "                       2019-12-09 12374       1729036  P1660              4   \n",
            "Bandar Lampung/Lampung 2019-01-15 12515       1619257  P0628             12   \n",
            "\n",
            "                                                                   item_price  \\\n",
            "city/province          order_date customer_id order_id product_id               \n",
            "Banda Aceh/Aceh        2019-04-17 12818       1642480  P1936           450000   \n",
            "                       2019-11-12 12360       1715116  P0758           695000   \n",
            "                                                       P3042           310000   \n",
            "                       2019-12-09 12374       1729036  P1660          2795000   \n",
            "Bandar Lampung/Lampung 2019-01-15 12515       1619257  P0628           695000   \n",
            "\n",
            "                                                                   total_price  \n",
            "city/province          order_date customer_id order_id product_id               \n",
            "Banda Aceh/Aceh        2019-04-17 12818       1642480  P1936          10800000  \n",
            "                       2019-11-12 12360       1715116  P0758           5560000  \n",
            "                                                       P3042           3720000  \n",
            "                       2019-12-09 12374       1729036  P1660          11180000  \n",
            "Bandar Lampung/Lampung 2019-01-15 12515       1619257  P0628           8340000  \n"
          ]
        }
      ]
    },
    {
      "cell_type": "code",
      "source": [
        "print(\"\\n[9] SLICE DATASET FOR ONLY JANUARY 2019\")\n",
        "idx = pd.IndexSlice\n",
        "df_jan2019 = df.loc[idx[:, \"2019-01-01\":\"2019-01-31\"], :]\n",
        "print(\"Dataset akhir:\\n\", df_jan2019)"
      ],
      "metadata": {
        "colab": {
          "base_uri": "https://localhost:8080/"
        },
        "id": "YqlVWOJqlokK",
        "outputId": "880ec039-eabc-4180-ae5f-922eb2de15c9"
      },
      "execution_count": 23,
      "outputs": [
        {
          "output_type": "stream",
          "name": "stdout",
          "text": [
            "\n",
            "[9] SLICE DATASET FOR ONLY JANUARY 2019\n",
            "Dataset akhir:\n",
            "                                                                      brand  \\\n",
            "city/province          order_date customer_id order_id product_id            \n",
            "Bandar Lampung/Lampung 2019-01-15 12515       1619257  P0628       BRAND_C   \n",
            "Bandung/Jawa Barat     2019-01-09 16134       1617055  P1597       BRAND_G   \n",
            "                       2019-01-10 17392       1617952  P2137       BRAND_M   \n",
            "                       2019-01-14 15527       1618828  P3115       BRAND_S   \n",
            "                       2019-01-29 13253       1620289  P0099       BRAND_A   \n",
            "...                                                                    ...   \n",
            "unknown/unknown        2019-01-30 0           1620766  P3070       BRAND_R   \n",
            "                                                       P3483       BRAND_S   \n",
            "                       2019-01-31 0           1621057  P1298       BRAND_F   \n",
            "                                                       P1773       BRAND_H   \n",
            "                                                       P2877       BRAND_R   \n",
            "\n",
            "                                                                   quantity  \\\n",
            "city/province          order_date customer_id order_id product_id             \n",
            "Bandar Lampung/Lampung 2019-01-15 12515       1619257  P0628             12   \n",
            "Bandung/Jawa Barat     2019-01-09 16134       1617055  P1597              9   \n",
            "                       2019-01-10 17392       1617952  P2137              2   \n",
            "                       2019-01-14 15527       1618828  P3115              1   \n",
            "                       2019-01-29 13253       1620289  P0099             12   \n",
            "...                                                                     ...   \n",
            "unknown/unknown        2019-01-30 0           1620766  P3070              1   \n",
            "                                                       P3483              3   \n",
            "                       2019-01-31 0           1621057  P1298              1   \n",
            "                                                       P1773              5   \n",
            "                                                       P2877              1   \n",
            "\n",
            "                                                                   item_price  \\\n",
            "city/province          order_date customer_id order_id product_id               \n",
            "Bandar Lampung/Lampung 2019-01-15 12515       1619257  P0628           695000   \n",
            "Bandung/Jawa Barat     2019-01-09 16134       1617055  P1597           520000   \n",
            "                       2019-01-10 17392       1617952  P2137          1062000   \n",
            "                       2019-01-14 15527       1618828  P3115          1045000   \n",
            "                       2019-01-29 13253       1620289  P0099           450000   \n",
            "...                                                                       ...   \n",
            "unknown/unknown        2019-01-30 0           1620766  P3070           593000   \n",
            "                                                       P3483           593000   \n",
            "                       2019-01-31 0           1621057  P1298           296000   \n",
            "                                                       P1773           593000   \n",
            "                                                       P2877          1486000   \n",
            "\n",
            "                                                                   total_price  \n",
            "city/province          order_date customer_id order_id product_id               \n",
            "Bandar Lampung/Lampung 2019-01-15 12515       1619257  P0628           8340000  \n",
            "Bandung/Jawa Barat     2019-01-09 16134       1617055  P1597           4680000  \n",
            "                       2019-01-10 17392       1617952  P2137           2124000  \n",
            "                       2019-01-14 15527       1618828  P3115           1045000  \n",
            "                       2019-01-29 13253       1620289  P0099           5400000  \n",
            "...                                                                        ...  \n",
            "unknown/unknown        2019-01-30 0           1620766  P3070            593000  \n",
            "                                                       P3483           1779000  \n",
            "                       2019-01-31 0           1621057  P1298            296000  \n",
            "                                                       P1773           2965000  \n",
            "                                                       P2877           1486000  \n",
            "\n",
            "[334 rows x 4 columns]\n"
          ]
        }
      ]
    }
  ]
}