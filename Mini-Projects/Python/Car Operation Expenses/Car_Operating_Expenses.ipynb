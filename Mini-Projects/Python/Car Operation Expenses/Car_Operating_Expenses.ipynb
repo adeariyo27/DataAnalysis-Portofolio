{
  "nbformat": 4,
  "nbformat_minor": 0,
  "metadata": {
    "colab": {
      "provenance": []
    },
    "kernelspec": {
      "name": "python3",
      "display_name": "Python 3"
    },
    "language_info": {
      "name": "python"
    }
  },
  "cells": [
    {
      "cell_type": "markdown",
      "source": [
        "# **TASK QUESTIONS**:\n",
        "* How to check vehicles with odd or even plate numbers?\n",
        "* How to find out total expenses for vehicles with odd and even plate numbers in 1 month?\n",
        "\n",
        "---\n",
        "\n"
      ],
      "metadata": {
        "id": "ZTSUeEghHMW6"
      }
    },
    {
      "cell_type": "markdown",
      "source": [
        "# **DATA**"
      ],
      "metadata": {
        "id": "tCHFik1QJZq-"
      }
    },
    {
      "cell_type": "code",
      "source": [
        "uang_jalan = 1500000\n",
        "jumlah_hari = 31\n",
        "list_plat_nomor = [8993, 2198, 2501, 2735, 3772, 4837, 9152]"
      ],
      "metadata": {
        "id": "5nEfSWeWJSyC"
      },
      "execution_count": null,
      "outputs": []
    },
    {
      "cell_type": "markdown",
      "source": [
        "## 1. Checking vehicles with odd or even plate numbers\n",
        "\n",
        "\n"
      ],
      "metadata": {
        "id": "3p51aJJLIqOY"
      }
    },
    {
      "cell_type": "code",
      "source": [
        "kendaraan_genap = 0\n",
        "kendaraan_ganjil = 0\n",
        "for plat_nomor in list_plat_nomor:\n",
        "    if plat_nomor % 2 == 0:\n",
        "        kendaraan_genap += 1\n",
        "    else:\n",
        "        kendaraan_ganjil += 1\n",
        "print(kendaraan_genap)\n",
        "print(kendaraan_ganjil)"
      ],
      "metadata": {
        "colab": {
          "base_uri": "https://localhost:8080/"
        },
        "id": "Z6VYmm2VJIWq",
        "outputId": "98bf9b1b-7c66-484d-ad12-5e6ff178b102"
      },
      "execution_count": null,
      "outputs": [
        {
          "output_type": "stream",
          "name": "stdout",
          "text": [
            "3\n",
            "4\n"
          ]
        }
      ]
    },
    {
      "cell_type": "markdown",
      "source": [
        "## 2. Find out total expenses for vehicles with odd and even plate numbers in 1 month"
      ],
      "metadata": {
        "id": "KfIrzUvDJgtJ"
      }
    },
    {
      "cell_type": "code",
      "source": [
        "i = 1\n",
        "total_pengeluaran = 0\n",
        "while i <= jumlah_hari:\n",
        "    if i % 2 == 0:\n",
        "        total_pengeluaran += (kendaraan_genap * uang_jalan)\n",
        "    else:\n",
        "        total_pengeluaran += (kendaraan_ganjil * uang_jalan)\n",
        "    i += 1\n",
        "print(total_pengeluaran)"
      ],
      "metadata": {
        "colab": {
          "base_uri": "https://localhost:8080/"
        },
        "id": "2pBf4vjFJ0VM",
        "outputId": "441d6f11-8c3d-47fb-b042-132518d9a273"
      },
      "execution_count": null,
      "outputs": [
        {
          "output_type": "stream",
          "name": "stdout",
          "text": [
            "163500000\n"
          ]
        }
      ]
    }
  ]
}